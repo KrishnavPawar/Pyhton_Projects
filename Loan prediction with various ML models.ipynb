{
 "cells": [
  {
   "cell_type": "markdown",
   "id": "e2937be3-9d81-4d7c-9935-2cbc3529f786",
   "metadata": {},
   "source": [
    "# Data Set Problems\n"
   ]
  },
  {
   "cell_type": "markdown",
   "id": "78672123-a672-4588-bccb-e4efb3d6b726",
   "metadata": {},
   "source": [
    "#### The Aim of this project is to automate the real-time loan qualification process using customer-provided information from online application forms. The objective is to develop machine learning models that can predict loan approval, streamlining the decision-making process and quickly determining an applicant's eligibility for a loan\n"
   ]
  },
  {
   "cell_type": "markdown",
   "id": "7f761253-0b25-4fb5-937b-e674514132b6",
   "metadata": {},
   "source": [
    "## The machine learning models used in this project are:\n",
    "* Logistic Regression\n",
    "* K-Nearest Neighbour (KNN)\n",
    "* Support Vector Machine (SVM)\n",
    "* Decision Tree\n",
    "* Random Forest\n",
    "* Gradient Boost"
   ]
  },
  {
   "cell_type": "markdown",
   "id": "4f79528d-9c2c-4917-8c29-6c02d511e421",
   "metadata": {},
   "source": [
    "# 2. Importing Libraries"
   ]
  },
  {
   "cell_type": "code",
   "execution_count": 1,
   "id": "ff1f9597-75dc-4069-82f7-4aadef4a3eb8",
   "metadata": {},
   "outputs": [],
   "source": [
    "import numpy as np\n",
    "import pandas as pd\n",
    "import matplotlib.pyplot as plt\n",
    "import missingno as mso\n",
    "import seaborn as sns\n",
    "import warnings \n",
    "import os\n",
    "import scipy\n",
    "import imblearn\n",
    "import xgboost\n",
    "import warnings\n",
    "warnings.filterwarnings('ignore')"
   ]
  },
  {
   "cell_type": "code",
   "execution_count": 2,
   "id": "b5fe4a7c-1a68-4d17-9142-fc936a8a8805",
   "metadata": {},
   "outputs": [],
   "source": [
    "from scipy import stats\n",
    "from scipy.stats import pearsonr\n",
    "from scipy.stats import ttest_ind\n",
    "from sklearn.metrics import classification_report\n",
    "from sklearn.metrics import confusion_matrix\n",
    "from sklearn.preprocessing import MinMaxScaler\n",
    "from sklearn.model_selection import train_test_split\n",
    "from imblearn.over_sampling import SMOTE\n",
    "from sklearn.metrics import classification_report,accuracy_score,confusion_matrix"
   ]
  },
  {
   "cell_type": "code",
   "execution_count": null,
   "id": "0e3ff594-0d40-49e1-a6c1-6c444dae079a",
   "metadata": {},
   "outputs": [],
   "source": [
    "from sklearn.linear_model import LinearRegression\n",
    "from sklearn.neighbors import KNeighborsClassifier\n",
    "from sklearn.svm import SVC\n",
    "from sklearn.tree import DecisionTreeClassifier\n",
    "from sklearn.ensemble import RandomForestClassifier\n",
    "from sklearn.ensemble import GradientBoostingClassifier\n",
    "from xgboost import XGBClassifier\n",
    "from sklearn.model_selection import GridSearchCV, RandomizedSearchCV\n"
   ]
  },
  {
   "cell_type": "markdown",
   "id": "7d7815f1-a32e-48be-a912-daac02962d59",
   "metadata": {},
   "source": [
    "# 3.Reading Data Set\n",
    "* Importing Data Set"
   ]
  },
  {
   "cell_type": "code",
   "execution_count": 4,
   "id": "30ccfd01-d7c7-4540-bf4f-4ac9d2bb37fd",
   "metadata": {},
   "outputs": [],
   "source": [
    "df = pd.read_csv(r\"C:\\Users\\kvpaw\\Downloads\\data science by excelr\\Projects\\loan_data_set.csv\")"
   ]
  },
  {
   "cell_type": "code",
   "execution_count": 5,
   "id": "8c2c872b-0185-4936-8af8-50aa6e3aa8d1",
   "metadata": {},
   "outputs": [
    {
     "data": {
      "text/html": [
       "<div>\n",
       "<style scoped>\n",
       "    .dataframe tbody tr th:only-of-type {\n",
       "        vertical-align: middle;\n",
       "    }\n",
       "\n",
       "    .dataframe tbody tr th {\n",
       "        vertical-align: top;\n",
       "    }\n",
       "\n",
       "    .dataframe thead th {\n",
       "        text-align: right;\n",
       "    }\n",
       "</style>\n",
       "<table border=\"1\" class=\"dataframe\">\n",
       "  <thead>\n",
       "    <tr style=\"text-align: right;\">\n",
       "      <th></th>\n",
       "      <th>Loan_ID</th>\n",
       "      <th>Gender</th>\n",
       "      <th>Married</th>\n",
       "      <th>Dependents</th>\n",
       "      <th>Education</th>\n",
       "      <th>Self_Employed</th>\n",
       "      <th>ApplicantIncome</th>\n",
       "      <th>CoapplicantIncome</th>\n",
       "      <th>LoanAmount</th>\n",
       "      <th>Loan_Amount_Term</th>\n",
       "      <th>Credit_History</th>\n",
       "      <th>Property_Area</th>\n",
       "      <th>Loan_Status</th>\n",
       "    </tr>\n",
       "  </thead>\n",
       "  <tbody>\n",
       "    <tr>\n",
       "      <th>0</th>\n",
       "      <td>LP001002</td>\n",
       "      <td>Male</td>\n",
       "      <td>No</td>\n",
       "      <td>0</td>\n",
       "      <td>Graduate</td>\n",
       "      <td>No</td>\n",
       "      <td>5849</td>\n",
       "      <td>0.0</td>\n",
       "      <td>NaN</td>\n",
       "      <td>360.0</td>\n",
       "      <td>1.0</td>\n",
       "      <td>Urban</td>\n",
       "      <td>Y</td>\n",
       "    </tr>\n",
       "    <tr>\n",
       "      <th>1</th>\n",
       "      <td>LP001003</td>\n",
       "      <td>Male</td>\n",
       "      <td>Yes</td>\n",
       "      <td>1</td>\n",
       "      <td>Graduate</td>\n",
       "      <td>No</td>\n",
       "      <td>4583</td>\n",
       "      <td>1508.0</td>\n",
       "      <td>128.0</td>\n",
       "      <td>360.0</td>\n",
       "      <td>1.0</td>\n",
       "      <td>Rural</td>\n",
       "      <td>N</td>\n",
       "    </tr>\n",
       "    <tr>\n",
       "      <th>2</th>\n",
       "      <td>LP001005</td>\n",
       "      <td>Male</td>\n",
       "      <td>Yes</td>\n",
       "      <td>0</td>\n",
       "      <td>Graduate</td>\n",
       "      <td>Yes</td>\n",
       "      <td>3000</td>\n",
       "      <td>0.0</td>\n",
       "      <td>66.0</td>\n",
       "      <td>360.0</td>\n",
       "      <td>1.0</td>\n",
       "      <td>Urban</td>\n",
       "      <td>Y</td>\n",
       "    </tr>\n",
       "    <tr>\n",
       "      <th>3</th>\n",
       "      <td>LP001006</td>\n",
       "      <td>Male</td>\n",
       "      <td>Yes</td>\n",
       "      <td>0</td>\n",
       "      <td>Not Graduate</td>\n",
       "      <td>No</td>\n",
       "      <td>2583</td>\n",
       "      <td>2358.0</td>\n",
       "      <td>120.0</td>\n",
       "      <td>360.0</td>\n",
       "      <td>1.0</td>\n",
       "      <td>Urban</td>\n",
       "      <td>Y</td>\n",
       "    </tr>\n",
       "    <tr>\n",
       "      <th>4</th>\n",
       "      <td>LP001008</td>\n",
       "      <td>Male</td>\n",
       "      <td>No</td>\n",
       "      <td>0</td>\n",
       "      <td>Graduate</td>\n",
       "      <td>No</td>\n",
       "      <td>6000</td>\n",
       "      <td>0.0</td>\n",
       "      <td>141.0</td>\n",
       "      <td>360.0</td>\n",
       "      <td>1.0</td>\n",
       "      <td>Urban</td>\n",
       "      <td>Y</td>\n",
       "    </tr>\n",
       "  </tbody>\n",
       "</table>\n",
       "</div>"
      ],
      "text/plain": [
       "    Loan_ID Gender Married Dependents     Education Self_Employed  \\\n",
       "0  LP001002   Male      No          0      Graduate            No   \n",
       "1  LP001003   Male     Yes          1      Graduate            No   \n",
       "2  LP001005   Male     Yes          0      Graduate           Yes   \n",
       "3  LP001006   Male     Yes          0  Not Graduate            No   \n",
       "4  LP001008   Male      No          0      Graduate            No   \n",
       "\n",
       "   ApplicantIncome  CoapplicantIncome  LoanAmount  Loan_Amount_Term  \\\n",
       "0             5849                0.0         NaN             360.0   \n",
       "1             4583             1508.0       128.0             360.0   \n",
       "2             3000                0.0        66.0             360.0   \n",
       "3             2583             2358.0       120.0             360.0   \n",
       "4             6000                0.0       141.0             360.0   \n",
       "\n",
       "   Credit_History Property_Area Loan_Status  \n",
       "0             1.0         Urban           Y  \n",
       "1             1.0         Rural           N  \n",
       "2             1.0         Urban           Y  \n",
       "3             1.0         Urban           Y  \n",
       "4             1.0         Urban           Y  "
      ]
     },
     "execution_count": 5,
     "metadata": {},
     "output_type": "execute_result"
    }
   ],
   "source": [
    "df.head()"
   ]
  },
  {
   "cell_type": "code",
   "execution_count": 6,
   "id": "f6ad6088-3bc9-41b6-a512-e25f68a1b10f",
   "metadata": {},
   "outputs": [
    {
     "name": "stdout",
     "output_type": "stream",
     "text": [
      "(614, 13)\n"
     ]
    }
   ],
   "source": [
    "print(df.shape)"
   ]
  },
  {
   "cell_type": "code",
   "execution_count": 7,
   "id": "23d2f3bc-79ae-495e-84f9-671a6fdf4f93",
   "metadata": {},
   "outputs": [],
   "source": [
    "# There are 13 columns which are readable. It also can be seen that there are 614 observations in the data set"
   ]
  },
  {
   "cell_type": "markdown",
   "id": "69f9f24a-e973-40e8-97a1-333751d320ee",
   "metadata": {},
   "source": [
    "# 4. Data Exploration\n",
    "This section will perform data exploration of \"raw\" data set that has been imported."
   ]
  },
  {
   "cell_type": "markdown",
   "id": "e575639c-dfad-4f0f-b638-b30867fe46ac",
   "metadata": {},
   "source": [
    "## 4.1 Categorical Variables\n",
    "* We will now explore categorical variables *\n",
    "### 4.1.1 Loan ID"
   ]
  },
  {
   "cell_type": "code",
   "execution_count": 8,
   "id": "ca6d62bb-e1bc-401b-878f-98c0c692e925",
   "metadata": {},
   "outputs": [
    {
     "data": {
      "text/plain": [
       "Loan_ID\n",
       "LP002990    1\n",
       "LP001002    1\n",
       "LP001003    1\n",
       "LP001005    1\n",
       "LP001006    1\n",
       "           ..\n",
       "LP001024    1\n",
       "LP001020    1\n",
       "LP001018    1\n",
       "LP001014    1\n",
       "LP001013    1\n",
       "Name: count, Length: 614, dtype: int64"
      ]
     },
     "execution_count": 8,
     "metadata": {},
     "output_type": "execute_result"
    }
   ],
   "source": [
    "df.Loan_ID.value_counts(dropna = False)"
   ]
  },
  {
   "cell_type": "markdown",
   "id": "14e134a6-e5eb-426b-bc0b-34667ba1ae23",
   "metadata": {},
   "source": [
    "* It can be seen that there are 614 unique ID in the dataset. *"
   ]
  },
  {
   "cell_type": "markdown",
   "id": "9193841a-3068-427d-b3b4-6c22df58ef8d",
   "metadata": {},
   "source": [
    "### 4.1.2 Gender"
   ]
  },
  {
   "cell_type": "code",
   "execution_count": 9,
   "id": "3a3fbaa6-7cf0-42fd-987c-597ab2ec82d2",
   "metadata": {},
   "outputs": [
    {
     "data": {
      "text/plain": [
       "Gender\n",
       "Male      489\n",
       "Female    112\n",
       "NaN        13\n",
       "Name: count, dtype: int64"
      ]
     },
     "execution_count": 9,
     "metadata": {},
     "output_type": "execute_result"
    }
   ],
   "source": [
    "df.Gender.value_counts(dropna = False)"
   ]
  },
  {
   "cell_type": "code",
   "execution_count": 10,
   "id": "748e3c40-38e1-4ee2-b7df-b878d91b3425",
   "metadata": {},
   "outputs": [
    {
     "data": {
      "image/png": "[encoded data removed]",
      "text/plain": [
       "<Figure size 500x300 with 1 Axes>"
      ]
     },
     "metadata": {},
     "output_type": "display_data"
    }
   ],
   "source": [
    "plt.figure(figsize=(5,3))\n",
    "sns.countplot(data = df, x = \"Gender\",palette = \"hls\")\n",
    "plt.show()"
   ]
  },
  {
   "cell_type": "code",
   "execution_count": 11,
   "id": "97c99a2e-8ea0-46e2-915b-531027e63b42",
   "metadata": {},
   "outputs": [
    {
     "name": "stdout",
     "output_type": "stream",
     "text": [
      "Percentage of Male application 79.64169381107492\n",
      "Percentage of Female application 18.241042345276874\n",
      "Missing Values 2.1172638436482085\n"
     ]
    }
   ],
   "source": [
    "countMale = len(df[df['Gender'] == \"Male\"])\n",
    "countFemale = len(df[df['Gender'] == \"Female\"])\n",
    "countNull = len(df[df.Gender.isnull()])\n",
    "\n",
    "print('Percentage of Male application',((countMale/len(df.Gender))*100))\n",
    "print('Percentage of Female application',((countFemale/len(df.Gender))*100))\n",
    "print('Missing Values',((countNull/len(df.Gender))*100))\n",
    "\n"
   ]
  },
  {
   "cell_type": "markdown",
   "id": "28ca583a-dde4-4f78-8506-422294bc7ae0",
   "metadata": {},
   "source": [
    "### 4.1.3 Married"
   ]
  },
  {
   "cell_type": "code",
   "execution_count": 12,
   "id": "7cbfea76-a65c-4f3b-a465-d154be410dab",
   "metadata": {},
   "outputs": [
    {
     "data": {
      "text/plain": [
       "Married\n",
       "Yes    398\n",
       "No     213\n",
       "NaN      3\n",
       "Name: count, dtype: int64"
      ]
     },
     "execution_count": 12,
     "metadata": {},
     "output_type": "execute_result"
    }
   ],
   "source": [
    "df.Married.value_counts(dropna = False)"
   ]
  },
  {
   "cell_type": "code",
   "execution_count": 13,
   "id": "4728eb01-1a01-4bc7-beb5-e220455f91af",
   "metadata": {},
   "outputs": [
    {
     "data": {
      "image/png": "[encoded data removed]",
      "text/plain": [
       "<Figure size 500x300 with 1 Axes>"
      ]
     },
     "metadata": {},
     "output_type": "display_data"
    }
   ],
   "source": [
    "plt.figure(figsize = (5,3))\n",
    "sns.countplot(data = df, x = \"Married\",palette = \"Paired\")\n",
    "plt.show()"
   ]
  },
  {
   "cell_type": "markdown",
   "id": "f6b15a7d-ab66-4df1-b24e-fb4084a1989a",
   "metadata": {},
   "source": [
    " The number of applicants that has been married is higher compared to applicants that hasn't married. It also can be seen there are small number of missing values in this column. "
   ]
  },
  {
   "cell_type": "code",
   "execution_count": 14,
   "id": "568bf37e-873f-4831-b4ba-e91781a9977f",
   "metadata": {},
   "outputs": [
    {
     "name": "stdout",
     "output_type": "stream",
     "text": [
      "Percentage of Married : 64.82084690553745\n",
      "Percentage of UnMarried : 34.69055374592834\n",
      "Missing Value Percentage : 0.4885993485342019\n"
     ]
    }
   ],
   "source": [
    "countMarried = len(df[df[\"Married\"] == \"Yes\"])\n",
    "countNotMarried = len(df[df[\"Married\"] == \"No\"])\n",
    "countNull = len(df[df[\"Married\"].isnull()])\n",
    "\n",
    "print(\"Percentage of Married :\",(countMarried/len(df[\"Married\"])*100))\n",
    "print(\"Percentage of UnMarried :\",(countNotMarried/len(df[\"Married\"])*100))\n",
    "print(\"Missing Value Percentage :\",(countNull/len(df[\"Married\"])*100))"
   ]
  },
  {
   "cell_type": "markdown",
   "id": "7926c97c-7b64-4cc3-b0c7-7e852231a46d",
   "metadata": {},
   "source": [
    "### 4.1.4 Education"
   ]
  },
  {
   "cell_type": "code",
   "execution_count": 15,
   "id": "f2d4dd76-aeaf-4836-8457-7eda87c613d8",
   "metadata": {},
   "outputs": [
    {
     "data": {
      "text/html": [
       "<div>\n",
       "<style scoped>\n",
       "    .dataframe tbody tr th:only-of-type {\n",
       "        vertical-align: middle;\n",
       "    }\n",
       "\n",
       "    .dataframe tbody tr th {\n",
       "        vertical-align: top;\n",
       "    }\n",
       "\n",
       "    .dataframe thead th {\n",
       "        text-align: right;\n",
       "    }\n",
       "</style>\n",
       "<table border=\"1\" class=\"dataframe\">\n",
       "  <thead>\n",
       "    <tr style=\"text-align: right;\">\n",
       "      <th></th>\n",
       "      <th>Loan_ID</th>\n",
       "      <th>Gender</th>\n",
       "      <th>Married</th>\n",
       "      <th>Dependents</th>\n",
       "      <th>Education</th>\n",
       "      <th>Self_Employed</th>\n",
       "      <th>ApplicantIncome</th>\n",
       "      <th>CoapplicantIncome</th>\n",
       "      <th>LoanAmount</th>\n",
       "      <th>Loan_Amount_Term</th>\n",
       "      <th>Credit_History</th>\n",
       "      <th>Property_Area</th>\n",
       "      <th>Loan_Status</th>\n",
       "    </tr>\n",
       "  </thead>\n",
       "  <tbody>\n",
       "    <tr>\n",
       "      <th>0</th>\n",
       "      <td>LP001002</td>\n",
       "      <td>Male</td>\n",
       "      <td>No</td>\n",
       "      <td>0</td>\n",
       "      <td>Graduate</td>\n",
       "      <td>No</td>\n",
       "      <td>5849</td>\n",
       "      <td>0.0</td>\n",
       "      <td>NaN</td>\n",
       "      <td>360.0</td>\n",
       "      <td>1.0</td>\n",
       "      <td>Urban</td>\n",
       "      <td>Y</td>\n",
       "    </tr>\n",
       "    <tr>\n",
       "      <th>1</th>\n",
       "      <td>LP001003</td>\n",
       "      <td>Male</td>\n",
       "      <td>Yes</td>\n",
       "      <td>1</td>\n",
       "      <td>Graduate</td>\n",
       "      <td>No</td>\n",
       "      <td>4583</td>\n",
       "      <td>1508.0</td>\n",
       "      <td>128.0</td>\n",
       "      <td>360.0</td>\n",
       "      <td>1.0</td>\n",
       "      <td>Rural</td>\n",
       "      <td>N</td>\n",
       "    </tr>\n",
       "    <tr>\n",
       "      <th>2</th>\n",
       "      <td>LP001005</td>\n",
       "      <td>Male</td>\n",
       "      <td>Yes</td>\n",
       "      <td>0</td>\n",
       "      <td>Graduate</td>\n",
       "      <td>Yes</td>\n",
       "      <td>3000</td>\n",
       "      <td>0.0</td>\n",
       "      <td>66.0</td>\n",
       "      <td>360.0</td>\n",
       "      <td>1.0</td>\n",
       "      <td>Urban</td>\n",
       "      <td>Y</td>\n",
       "    </tr>\n",
       "    <tr>\n",
       "      <th>3</th>\n",
       "      <td>LP001006</td>\n",
       "      <td>Male</td>\n",
       "      <td>Yes</td>\n",
       "      <td>0</td>\n",
       "      <td>Not Graduate</td>\n",
       "      <td>No</td>\n",
       "      <td>2583</td>\n",
       "      <td>2358.0</td>\n",
       "      <td>120.0</td>\n",
       "      <td>360.0</td>\n",
       "      <td>1.0</td>\n",
       "      <td>Urban</td>\n",
       "      <td>Y</td>\n",
       "    </tr>\n",
       "    <tr>\n",
       "      <th>4</th>\n",
       "      <td>LP001008</td>\n",
       "      <td>Male</td>\n",
       "      <td>No</td>\n",
       "      <td>0</td>\n",
       "      <td>Graduate</td>\n",
       "      <td>No</td>\n",
       "      <td>6000</td>\n",
       "      <td>0.0</td>\n",
       "      <td>141.0</td>\n",
       "      <td>360.0</td>\n",
       "      <td>1.0</td>\n",
       "      <td>Urban</td>\n",
       "      <td>Y</td>\n",
       "    </tr>\n",
       "  </tbody>\n",
       "</table>\n",
       "</div>"
      ],
      "text/plain": [
       "    Loan_ID Gender Married Dependents     Education Self_Employed  \\\n",
       "0  LP001002   Male      No          0      Graduate            No   \n",
       "1  LP001003   Male     Yes          1      Graduate            No   \n",
       "2  LP001005   Male     Yes          0      Graduate           Yes   \n",
       "3  LP001006   Male     Yes          0  Not Graduate            No   \n",
       "4  LP001008   Male      No          0      Graduate            No   \n",
       "\n",
       "   ApplicantIncome  CoapplicantIncome  LoanAmount  Loan_Amount_Term  \\\n",
       "0             5849                0.0         NaN             360.0   \n",
       "1             4583             1508.0       128.0             360.0   \n",
       "2             3000                0.0        66.0             360.0   \n",
       "3             2583             2358.0       120.0             360.0   \n",
       "4             6000                0.0       141.0             360.0   \n",
       "\n",
       "   Credit_History Property_Area Loan_Status  \n",
       "0             1.0         Urban           Y  \n",
       "1             1.0         Rural           N  \n",
       "2             1.0         Urban           Y  \n",
       "3             1.0         Urban           Y  \n",
       "4             1.0         Urban           Y  "
      ]
     },
     "execution_count": 15,
     "metadata": {},
     "output_type": "execute_result"
    }
   ],
   "source": [
    "df.head()"
   ]
  },
  {
   "cell_type": "code",
   "execution_count": 16,
   "id": "1de2ba66-e0a0-40a6-b61c-9844dfee9cee",
   "metadata": {},
   "outputs": [
    {
     "data": {
      "text/plain": [
       "Education\n",
       "Graduate        480\n",
       "Not Graduate    134\n",
       "Name: count, dtype: int64"
      ]
     },
     "execution_count": 16,
     "metadata": {},
     "output_type": "execute_result"
    }
   ],
   "source": [
    "df[\"Education\"].value_counts(dropna = False)"
   ]
  },
  {
   "cell_type": "code",
   "execution_count": 17,
   "id": "889d8c7a-46eb-4f07-b7c2-def2a5e55a9e",
   "metadata": {},
   "outputs": [
    {
     "data": {
      "image/png": "[encoded data removed]",
      "text/plain": [
       "<Figure size 500x300 with 1 Axes>"
      ]
     },
     "metadata": {},
     "output_type": "display_data"
    }
   ],
   "source": [
    "plt.figure(figsize=(5,3))\n",
    "sns.countplot(data = df, x = \"Education\",palette = \"rocket\")\n",
    "plt.show()"
   ]
  },
  {
   "cell_type": "code",
   "execution_count": 18,
   "id": "a6935a1e-6326-44b6-9993-b09878025cec",
   "metadata": {},
   "outputs": [
    {
     "name": "stdout",
     "output_type": "stream",
     "text": [
      "Percentage of graduate applicant : 78.17589576547232\n",
      "Percentage of Non graduate applicant : 21.824104234527688\n",
      "Missing Value Percentage : 0.0\n"
     ]
    }
   ],
   "source": [
    "countGraduate = len(df[df[\"Education\"] == \"Graduate\"])\n",
    "countNotGraduate = len(df[df[\"Education\"] == \"Not Graduate\"])\n",
    "countNull = len(df[df[\"Education\"].isnull()])\n",
    "\n",
    "print(\"Percentage of graduate applicant :\",(countGraduate/len(df[\"Education\"]))*100)\n",
    "print(\"Percentage of Non graduate applicant :\",(countNotGraduate/len(df[\"Education\"]))*100)\n",
    "print(\"Missing Value Percentage :\",(countNull/len(df[\"Education\"]))*100)"
   ]
  },
  {
   "cell_type": "markdown",
   "id": "f3b2727e-2215-4903-89e4-7772d6a281e8",
   "metadata": {},
   "source": [
    " The number of applicants that has been graduated is higher compared to applicants that hasn't graduated."
   ]
  },
  {
   "cell_type": "markdown",
   "id": "c5f236d6-f4c7-427c-ba75-7f6e6b213c66",
   "metadata": {},
   "source": [
    "### 4.1.5 Self Employed"
   ]
  },
  {
   "cell_type": "code",
   "execution_count": 19,
   "id": "9d30f6f1-2902-403e-b018-292f234276b2",
   "metadata": {},
   "outputs": [
    {
     "data": {
      "text/plain": [
       "Self_Employed\n",
       "No     500\n",
       "Yes     82\n",
       "NaN     32\n",
       "Name: count, dtype: int64"
      ]
     },
     "execution_count": 19,
     "metadata": {},
     "output_type": "execute_result"
    }
   ],
   "source": [
    "df.Self_Employed.value_counts(dropna = False)"
   ]
  },
  {
   "cell_type": "code",
   "execution_count": 20,
   "id": "99347be9-58f7-449b-b489-66ce2295a175",
   "metadata": {},
   "outputs": [
    {
     "data": {
      "image/png": "[encoded data removed]",
      "text/plain": [
       "<Figure size 500x300 with 1 Axes>"
      ]
     },
     "metadata": {},
     "output_type": "display_data"
    }
   ],
   "source": [
    "plt.figure(figsize=(5,3))\n",
    "sns.countplot(data = df, x = \"Self_Employed\",palette = \"rocket\")\n",
    "plt.show()"
   ]
  },
  {
   "cell_type": "code",
   "execution_count": 21,
   "id": "c80bd62c-f2f8-4148-8c3b-5fce5ee72bb3",
   "metadata": {},
   "outputs": [
    {
     "name": "stdout",
     "output_type": "stream",
     "text": [
      "Percentage of No Self emplyed applicant : 81.43322475570032\n",
      "Percentage of Self Employed applicant : 13.355048859934854\n",
      "Missing Value Percentage : 5.211726384364821\n"
     ]
    }
   ],
   "source": [
    "countNo = len(df[df[\"Self_Employed\"] == \"No\"])\n",
    "countYes = len(df[df[\"Self_Employed\"] == \"Yes\"])\n",
    "countNull = len(df[df[\"Self_Employed\"].isnull()])\n",
    "\n",
    "print(\"Percentage of No Self emplyed applicant :\",(countNo/len(df[\"Self_Employed\"]))*100)\n",
    "print(\"Percentage of Self Employed applicant :\",(countYes/len(df[\"Self_Employed\"]))*100)\n",
    "print(\"Missing Value Percentage :\",(countNull/len(df[\"Self_Employed\"]))*100)"
   ]
  },
  {
   "cell_type": "markdown",
   "id": "efe2365a-3b79-458e-b913-0c6a2a62d598",
   "metadata": {},
   "source": [
    "The number of applicants that are not self employed is higher compared to applicants that are self employed. It also can be seen, there are missing values in this column."
   ]
  },
  {
   "cell_type": "markdown",
   "id": "ff651541-89c2-4b3f-a10f-c284639e4130",
   "metadata": {},
   "source": [
    "### 4.1.6 Credit History"
   ]
  },
  {
   "cell_type": "code",
   "execution_count": 22,
   "id": "9ed75d15-8e24-4a7d-aed6-ff4f7c913bde",
   "metadata": {},
   "outputs": [
    {
     "data": {
      "text/html": [
       "<div>\n",
       "<style scoped>\n",
       "    .dataframe tbody tr th:only-of-type {\n",
       "        vertical-align: middle;\n",
       "    }\n",
       "\n",
       "    .dataframe tbody tr th {\n",
       "        vertical-align: top;\n",
       "    }\n",
       "\n",
       "    .dataframe thead th {\n",
       "        text-align: right;\n",
       "    }\n",
       "</style>\n",
       "<table border=\"1\" class=\"dataframe\">\n",
       "  <thead>\n",
       "    <tr style=\"text-align: right;\">\n",
       "      <th></th>\n",
       "      <th>Loan_ID</th>\n",
       "      <th>Gender</th>\n",
       "      <th>Married</th>\n",
       "      <th>Dependents</th>\n",
       "      <th>Education</th>\n",
       "      <th>Self_Employed</th>\n",
       "      <th>ApplicantIncome</th>\n",
       "      <th>CoapplicantIncome</th>\n",
       "      <th>LoanAmount</th>\n",
       "      <th>Loan_Amount_Term</th>\n",
       "      <th>Credit_History</th>\n",
       "      <th>Property_Area</th>\n",
       "      <th>Loan_Status</th>\n",
       "    </tr>\n",
       "  </thead>\n",
       "  <tbody>\n",
       "    <tr>\n",
       "      <th>0</th>\n",
       "      <td>LP001002</td>\n",
       "      <td>Male</td>\n",
       "      <td>No</td>\n",
       "      <td>0</td>\n",
       "      <td>Graduate</td>\n",
       "      <td>No</td>\n",
       "      <td>5849</td>\n",
       "      <td>0.0</td>\n",
       "      <td>NaN</td>\n",
       "      <td>360.0</td>\n",
       "      <td>1.0</td>\n",
       "      <td>Urban</td>\n",
       "      <td>Y</td>\n",
       "    </tr>\n",
       "  </tbody>\n",
       "</table>\n",
       "</div>"
      ],
      "text/plain": [
       "    Loan_ID Gender Married Dependents Education Self_Employed  \\\n",
       "0  LP001002   Male      No          0  Graduate            No   \n",
       "\n",
       "   ApplicantIncome  CoapplicantIncome  LoanAmount  Loan_Amount_Term  \\\n",
       "0             5849                0.0         NaN             360.0   \n",
       "\n",
       "   Credit_History Property_Area Loan_Status  \n",
       "0             1.0         Urban           Y  "
      ]
     },
     "execution_count": 22,
     "metadata": {},
     "output_type": "execute_result"
    }
   ],
   "source": [
    "df.head(1)"
   ]
  },
  {
   "cell_type": "code",
   "execution_count": 23,
   "id": "3aae44fd-6c7a-4abd-860f-19c29cce39be",
   "metadata": {},
   "outputs": [
    {
     "data": {
      "text/plain": [
       "Credit_History\n",
       "1.0    475\n",
       "0.0     89\n",
       "NaN     50\n",
       "Name: count, dtype: int64"
      ]
     },
     "execution_count": 23,
     "metadata": {},
     "output_type": "execute_result"
    }
   ],
   "source": [
    "df.Credit_History.value_counts(dropna = False)"
   ]
  },
  {
   "cell_type": "code",
   "execution_count": 24,
   "id": "509fc6cf-8bf6-4de1-88db-9a6443f30cd9",
   "metadata": {},
   "outputs": [
    {
     "data": {
      "image/png": "[encoded data removed]",
      "text/plain": [
       "<Figure size 500x300 with 1 Axes>"
      ]
     },
     "metadata": {},
     "output_type": "display_data"
    }
   ],
   "source": [
    "plt.figure(figsize = (5,3))\n",
    "sns.countplot(x=\"Credit_History\", data=df, palette=\"viridis\")\n",
    "plt.show()"
   ]
  },
  {
   "cell_type": "code",
   "execution_count": 25,
   "id": "d73be7ea-0976-4755-92ce-cd6b6135da68",
   "metadata": {},
   "outputs": [
    {
     "name": "stdout",
     "output_type": "stream",
     "text": [
      "Percentage of Good Credit History : 77.36156351791531\n",
      "Percentage of Bad Credit HIstory : 14.495114006514658\n",
      "Missing Value Percentage : 8.143322475570033\n"
     ]
    }
   ],
   "source": [
    "count1 = len(df[df[\"Credit_History\"] == 1])\n",
    "count0 = len(df[df[\"Credit_History\"] == 0])\n",
    "countNull = len(df[df[\"Credit_History\"].isnull()])\n",
    "\n",
    "print(\"Percentage of Good Credit History :\",(count1/len(df[\"Credit_History\"]))*100)\n",
    "print(\"Percentage of Bad Credit HIstory :\",(count0/len(df[\"Credit_History\"]))*100)\n",
    "print(\"Missing Value Percentage :\",(countNull/len(df[\"Credit_History\"]))*100)"
   ]
  },
  {
   "cell_type": "markdown",
   "id": "0c795b8a-715b-4d34-af04-d86cd9f28e33",
   "metadata": {},
   "source": [
    "The number of applicants that have good credit history is higher compared to applicants that have bad credit history. It also can be seen, there are missing values in this column."
   ]
  },
  {
   "cell_type": "markdown",
   "id": "203854a4-fcae-4810-a8ac-50b5f1df206f",
   "metadata": {},
   "source": [
    "### 4.1.7 Property Area"
   ]
  },
  {
   "cell_type": "code",
   "execution_count": 26,
   "id": "9e561f2c-6bf1-4b72-aab5-4e032ba9e699",
   "metadata": {},
   "outputs": [
    {
     "data": {
      "text/html": [
       "<div>\n",
       "<style scoped>\n",
       "    .dataframe tbody tr th:only-of-type {\n",
       "        vertical-align: middle;\n",
       "    }\n",
       "\n",
       "    .dataframe tbody tr th {\n",
       "        vertical-align: top;\n",
       "    }\n",
       "\n",
       "    .dataframe thead th {\n",
       "        text-align: right;\n",
       "    }\n",
       "</style>\n",
       "<table border=\"1\" class=\"dataframe\">\n",
       "  <thead>\n",
       "    <tr style=\"text-align: right;\">\n",
       "      <th></th>\n",
       "      <th>Loan_ID</th>\n",
       "      <th>Gender</th>\n",
       "      <th>Married</th>\n",
       "      <th>Dependents</th>\n",
       "      <th>Education</th>\n",
       "      <th>Self_Employed</th>\n",
       "      <th>ApplicantIncome</th>\n",
       "      <th>CoapplicantIncome</th>\n",
       "      <th>LoanAmount</th>\n",
       "      <th>Loan_Amount_Term</th>\n",
       "      <th>Credit_History</th>\n",
       "      <th>Property_Area</th>\n",
       "      <th>Loan_Status</th>\n",
       "    </tr>\n",
       "  </thead>\n",
       "  <tbody>\n",
       "    <tr>\n",
       "      <th>0</th>\n",
       "      <td>LP001002</td>\n",
       "      <td>Male</td>\n",
       "      <td>No</td>\n",
       "      <td>0</td>\n",
       "      <td>Graduate</td>\n",
       "      <td>No</td>\n",
       "      <td>5849</td>\n",
       "      <td>0.0</td>\n",
       "      <td>NaN</td>\n",
       "      <td>360.0</td>\n",
       "      <td>1.0</td>\n",
       "      <td>Urban</td>\n",
       "      <td>Y</td>\n",
       "    </tr>\n",
       "  </tbody>\n",
       "</table>\n",
       "</div>"
      ],
      "text/plain": [
       "    Loan_ID Gender Married Dependents Education Self_Employed  \\\n",
       "0  LP001002   Male      No          0  Graduate            No   \n",
       "\n",
       "   ApplicantIncome  CoapplicantIncome  LoanAmount  Loan_Amount_Term  \\\n",
       "0             5849                0.0         NaN             360.0   \n",
       "\n",
       "   Credit_History Property_Area Loan_Status  \n",
       "0             1.0         Urban           Y  "
      ]
     },
     "execution_count": 26,
     "metadata": {},
     "output_type": "execute_result"
    }
   ],
   "source": [
    "df.head(1)"
   ]
  },
  {
   "cell_type": "code",
   "execution_count": 27,
   "id": "6ef2bbd6-975b-4c7c-9330-0969ee6b680b",
   "metadata": {},
   "outputs": [
    {
     "data": {
      "text/plain": [
       "Property_Area\n",
       "Semiurban    233\n",
       "Urban        202\n",
       "Rural        179\n",
       "Name: count, dtype: int64"
      ]
     },
     "execution_count": 27,
     "metadata": {},
     "output_type": "execute_result"
    }
   ],
   "source": [
    "df.Property_Area.value_counts(dropna = False)"
   ]
  },
  {
   "cell_type": "code",
   "execution_count": 28,
   "id": "224aed86-2cb2-404b-9235-f8e612318763",
   "metadata": {},
   "outputs": [
    {
     "data": {
      "image/png": "[encoded data removed]",
      "text/plain": [
       "<Figure size 500x300 with 1 Axes>"
      ]
     },
     "metadata": {},
     "output_type": "display_data"
    }
   ],
   "source": [
    "plt.figure(figsize = (5,3))\n",
    "sns.countplot(x = \"Property_Area\",data = df, palette = \"cubehelix\")\n",
    "plt.show()"
   ]
  },
  {
   "cell_type": "code",
   "execution_count": 29,
   "id": "a5a1a3a9-122f-478c-8559-6f899f3b447b",
   "metadata": {},
   "outputs": [
    {
     "name": "stdout",
     "output_type": "stream",
     "text": [
      "Percentage of Urban : 32.89902280130293\n",
      "Percentage of Rural : 29.153094462540718\n",
      "Percentage of Semiurban : 37.94788273615635\n"
     ]
    }
   ],
   "source": [
    "countUrban = len(df[df[\"Property_Area\"] == \"Urban\"])\n",
    "countRural = len(df[df[\"Property_Area\"] == \"Rural\"])\n",
    "countSemiurban = len(df[df[\"Property_Area\"] == \"Semiurban\"])\n",
    "\n",
    "print(\"Percentage of Urban :\",(countUrban/len(df[\"Credit_History\"]))*100)\n",
    "print(\"Percentage of Rural :\",(countRural/len(df[\"Credit_History\"]))*100)\n",
    "print(\"Percentage of Semiurban :\",(countSemiurban/len(df[\"Credit_History\"]))*100)"
   ]
  },
  {
   "cell_type": "markdown",
   "id": "aa38c259-8bb6-4c5c-8d98-1e835ddec94a",
   "metadata": {},
   "source": [
    "### 4.1.8 Loan Status"
   ]
  },
  {
   "cell_type": "code",
   "execution_count": 30,
   "id": "bbd195b0-2c6c-4b9b-bd32-2012606d3268",
   "metadata": {},
   "outputs": [
    {
     "data": {
      "text/plain": [
       "Loan_Status\n",
       "Y    422\n",
       "N    192\n",
       "Name: count, dtype: int64"
      ]
     },
     "execution_count": 30,
     "metadata": {},
     "output_type": "execute_result"
    }
   ],
   "source": [
    "df.Loan_Status.value_counts(dropna = False)"
   ]
  },
  {
   "cell_type": "code",
   "execution_count": 31,
   "id": "c044d9cd-0457-46a8-9f0e-2dba934354e8",
   "metadata": {},
   "outputs": [
    {
     "data": {
      "image/png": "[encoded data removed]",
      "text/plain": [
       "<Figure size 500x300 with 1 Axes>"
      ]
     },
     "metadata": {},
     "output_type": "display_data"
    }
   ],
   "source": [
    "plt.figure(figsize = (5,3))\n",
    "sns.countplot(x = \"Loan_Status\",data = df, palette = \"YlOrBr\")\n",
    "plt.show()"
   ]
  },
  {
   "cell_type": "code",
   "execution_count": 32,
   "id": "ed66c683-0f74-4069-a185-8a7f97adb217",
   "metadata": {},
   "outputs": [
    {
     "name": "stdout",
     "output_type": "stream",
     "text": [
      "Percentage of Approved : 68.72964169381108\n",
      "Percentage of Rejected : 31.27035830618892\n",
      "Percentage of Missing Values : 0.0\n"
     ]
    }
   ],
   "source": [
    "countY = len(df[df[\"Loan_Status\"] == \"Y\"])\n",
    "countN = len(df[df[\"Loan_Status\"] == \"N\"])\n",
    "countNull = len(df[df[\"Loan_Status\"].isnull()])\n",
    "\n",
    "print(\"Percentage of Approved :\",(countY/len(df[\"Loan_Status\"]))*100)\n",
    "print(\"Percentage of Rejected :\",(countN/len(df[\"Loan_Status\"]))*100)\n",
    "print(\"Percentage of Missing Values :\",(countNull/len(df[\"Loan_Status\"]))*100)"
   ]
  },
  {
   "cell_type": "markdown",
   "id": "3e5de461-3255-4e73-a6fd-02c5cb2f92f8",
   "metadata": {},
   "source": [
    "The number of approved loans is higher compared to rejected loans . It also can be seen, there is no missing values in this column."
   ]
  },
  {
   "cell_type": "markdown",
   "id": "fe319b33-2b21-490f-818f-c2385ec4b762",
   "metadata": {},
   "source": [
    "### 4.1.8 Loan Amount Term"
   ]
  },
  {
   "cell_type": "code",
   "execution_count": 33,
   "id": "f42ef6f6-9711-4ae3-9461-7d8cfbdfd465",
   "metadata": {},
   "outputs": [
    {
     "data": {
      "text/plain": [
       "Loan_Amount_Term\n",
       "360.0    512\n",
       "180.0     44\n",
       "480.0     15\n",
       "NaN       14\n",
       "300.0     13\n",
       "84.0       4\n",
       "240.0      4\n",
       "120.0      3\n",
       "60.0       2\n",
       "36.0       2\n",
       "12.0       1\n",
       "Name: count, dtype: int64"
      ]
     },
     "execution_count": 33,
     "metadata": {},
     "output_type": "execute_result"
    }
   ],
   "source": [
    "df.Loan_Amount_Term.value_counts(dropna = False)"
   ]
  },
  {
   "cell_type": "code",
   "execution_count": 34,
   "id": "5742d442-10ed-4a25-a240-d4d231f97ed0",
   "metadata": {},
   "outputs": [
    {
     "data": {
      "image/png": "[encoded data removed]",
      "text/plain": [
       "<Figure size 500x300 with 1 Axes>"
      ]
     },
     "metadata": {},
     "output_type": "display_data"
    }
   ],
   "source": [
    "plt.figure(figsize = (5,3))\n",
    "sns.countplot(x = \"Loan_Amount_Term\",data = df, palette = \"rocket\")\n",
    "plt.show()"
   ]
  },
  {
   "cell_type": "code",
   "execution_count": 35,
   "id": "798d9b30-26cc-48ad-b342-9b513959d35d",
   "metadata": {},
   "outputs": [
    {
     "data": {
      "text/html": [
       "<div>\n",
       "<style scoped>\n",
       "    .dataframe tbody tr th:only-of-type {\n",
       "        vertical-align: middle;\n",
       "    }\n",
       "\n",
       "    .dataframe tbody tr th {\n",
       "        vertical-align: top;\n",
       "    }\n",
       "\n",
       "    .dataframe thead th {\n",
       "        text-align: right;\n",
       "    }\n",
       "</style>\n",
       "<table border=\"1\" class=\"dataframe\">\n",
       "  <thead>\n",
       "    <tr style=\"text-align: right;\">\n",
       "      <th></th>\n",
       "      <th>Loan_ID</th>\n",
       "      <th>Gender</th>\n",
       "      <th>Married</th>\n",
       "      <th>Dependents</th>\n",
       "      <th>Education</th>\n",
       "      <th>Self_Employed</th>\n",
       "      <th>ApplicantIncome</th>\n",
       "      <th>CoapplicantIncome</th>\n",
       "      <th>LoanAmount</th>\n",
       "      <th>Loan_Amount_Term</th>\n",
       "      <th>Credit_History</th>\n",
       "      <th>Property_Area</th>\n",
       "      <th>Loan_Status</th>\n",
       "    </tr>\n",
       "  </thead>\n",
       "  <tbody>\n",
       "    <tr>\n",
       "      <th>0</th>\n",
       "      <td>LP001002</td>\n",
       "      <td>Male</td>\n",
       "      <td>No</td>\n",
       "      <td>0</td>\n",
       "      <td>Graduate</td>\n",
       "      <td>No</td>\n",
       "      <td>5849</td>\n",
       "      <td>0.0</td>\n",
       "      <td>NaN</td>\n",
       "      <td>360.0</td>\n",
       "      <td>1.0</td>\n",
       "      <td>Urban</td>\n",
       "      <td>Y</td>\n",
       "    </tr>\n",
       "  </tbody>\n",
       "</table>\n",
       "</div>"
      ],
      "text/plain": [
       "    Loan_ID Gender Married Dependents Education Self_Employed  \\\n",
       "0  LP001002   Male      No          0  Graduate            No   \n",
       "\n",
       "   ApplicantIncome  CoapplicantIncome  LoanAmount  Loan_Amount_Term  \\\n",
       "0             5849                0.0         NaN             360.0   \n",
       "\n",
       "   Credit_History Property_Area Loan_Status  \n",
       "0             1.0         Urban           Y  "
      ]
     },
     "execution_count": 35,
     "metadata": {},
     "output_type": "execute_result"
    }
   ],
   "source": [
    "df.head(1)"
   ]
  },
  {
   "cell_type": "code",
   "execution_count": 36,
   "id": "8b616055-58d9-4d46-bd6b-106a0de9ae9e",
   "metadata": {},
   "outputs": [
    {
     "name": "stdout",
     "output_type": "stream",
     "text": [
      "Percentage of 12 : 0.16286644951140067\n",
      "Percentage of 36 : 0.32573289902280134\n",
      "Percentage of 60 : 0.32573289902280134\n",
      "Percentage of 84 : 0.6514657980456027\n",
      "Percentage of 120 : 0.4885993485342019\n",
      "Percentage of 180 : 7.166123778501629\n",
      "Percentage of 240 : 0.6514657980456027\n",
      "Percentage of 300 : 2.1172638436482085\n",
      "Percentage of 360 : 83.38762214983714\n",
      "Percentage of 480 : 2.44299674267101\n"
     ]
    }
   ],
   "source": [
    "count12 = len(df[df[\"Loan_Amount_Term\"] == 12])\n",
    "count36 = len(df[df[\"Loan_Amount_Term\"] == 36])\n",
    "count60 = len(df[df[\"Loan_Amount_Term\"] == 60])\n",
    "count84 = len(df[df[\"Loan_Amount_Term\"] == 84])\n",
    "count120 = len(df[df[\"Loan_Amount_Term\"] == 120])\n",
    "count180 = len(df[df[\"Loan_Amount_Term\"] == 180])\n",
    "count240 = len(df[df[\"Loan_Amount_Term\"] == 240])\n",
    "count300 = len(df[df[\"Loan_Amount_Term\"] == 300])\n",
    "count360 = len(df[df[\"Loan_Amount_Term\"] == 360])\n",
    "count480 = len(df[df[\"Loan_Amount_Term\"] == 480])\n",
    "\n",
    "print(\"Percentage of 12 :\",(count12/len(df[\"Loan_Amount_Term\"]))*100)\n",
    "print(\"Percentage of 36 :\",(count36/len(df[\"Loan_Amount_Term\"]))*100)\n",
    "print(\"Percentage of 60 :\",(count60/len(df[\"Loan_Amount_Term\"]))*100)\n",
    "print(\"Percentage of 84 :\",(count84/len(df[\"Loan_Amount_Term\"]))*100)\n",
    "print(\"Percentage of 120 :\",(count120/len(df[\"Loan_Amount_Term\"]))*100)\n",
    "print(\"Percentage of 180 :\",(count180/len(df[\"Loan_Amount_Term\"]))*100)\n",
    "print(\"Percentage of 240 :\",(count240/len(df[\"Loan_Amount_Term\"]))*100)\n",
    "print(\"Percentage of 300 :\",(count300/len(df[\"Loan_Amount_Term\"]))*100)\n",
    "print(\"Percentage of 360 :\",(count360/len(df[\"Loan_Amount_Term\"]))*100)\n",
    "print(\"Percentage of 480 :\",(count480/len(df[\"Loan_Amount_Term\"]))*100)\n"
   ]
  },
  {
   "cell_type": "markdown",
   "id": "60f0e1b7-e1ea-490a-90e1-dceb772b1230",
   "metadata": {},
   "source": [
    "As can be seen from the results, the 360 days loan duration is the most popular compared to others."
   ]
  },
  {
   "cell_type": "markdown",
   "id": "a5f9b0eb-dc7d-43c0-bb2c-992b17bf829f",
   "metadata": {},
   "source": [
    "### 4.2 Numerical Variables\n",
    "The second Variable that I will explore is Numerical Variable"
   ]
  },
  {
   "cell_type": "markdown",
   "id": "aa1dd33d-d94b-4b18-bd34-c7153d69fdb6",
   "metadata": {},
   "source": [
    "### 4.2.1 Descirbe Numerical Variable\n",
    " This section will show mean, count, std, min, max and others using describe function."
   ]
  },
  {
   "cell_type": "code",
   "execution_count": 37,
   "id": "ba1c458a-2c6c-4b27-bdc6-26e1916ac165",
   "metadata": {},
   "outputs": [
    {
     "data": {
      "text/html": [
       "<div>\n",
       "<style scoped>\n",
       "    .dataframe tbody tr th:only-of-type {\n",
       "        vertical-align: middle;\n",
       "    }\n",
       "\n",
       "    .dataframe tbody tr th {\n",
       "        vertical-align: top;\n",
       "    }\n",
       "\n",
       "    .dataframe thead th {\n",
       "        text-align: right;\n",
       "    }\n",
       "</style>\n",
       "<table border=\"1\" class=\"dataframe\">\n",
       "  <thead>\n",
       "    <tr style=\"text-align: right;\">\n",
       "      <th></th>\n",
       "      <th>Loan_ID</th>\n",
       "      <th>Gender</th>\n",
       "      <th>Married</th>\n",
       "      <th>Dependents</th>\n",
       "      <th>Education</th>\n",
       "      <th>Self_Employed</th>\n",
       "      <th>ApplicantIncome</th>\n",
       "      <th>CoapplicantIncome</th>\n",
       "      <th>LoanAmount</th>\n",
       "      <th>Loan_Amount_Term</th>\n",
       "      <th>Credit_History</th>\n",
       "      <th>Property_Area</th>\n",
       "      <th>Loan_Status</th>\n",
       "    </tr>\n",
       "  </thead>\n",
       "  <tbody>\n",
       "    <tr>\n",
       "      <th>0</th>\n",
       "      <td>LP001002</td>\n",
       "      <td>Male</td>\n",
       "      <td>No</td>\n",
       "      <td>0</td>\n",
       "      <td>Graduate</td>\n",
       "      <td>No</td>\n",
       "      <td>5849</td>\n",
       "      <td>0.0</td>\n",
       "      <td>NaN</td>\n",
       "      <td>360.0</td>\n",
       "      <td>1.0</td>\n",
       "      <td>Urban</td>\n",
       "      <td>Y</td>\n",
       "    </tr>\n",
       "  </tbody>\n",
       "</table>\n",
       "</div>"
      ],
      "text/plain": [
       "    Loan_ID Gender Married Dependents Education Self_Employed  \\\n",
       "0  LP001002   Male      No          0  Graduate            No   \n",
       "\n",
       "   ApplicantIncome  CoapplicantIncome  LoanAmount  Loan_Amount_Term  \\\n",
       "0             5849                0.0         NaN             360.0   \n",
       "\n",
       "   Credit_History Property_Area Loan_Status  \n",
       "0             1.0         Urban           Y  "
      ]
     },
     "execution_count": 37,
     "metadata": {},
     "output_type": "execute_result"
    }
   ],
   "source": [
    "df.head(1)"
   ]
  },
  {
   "cell_type": "code",
   "execution_count": 38,
   "id": "431b5eec-2b5a-4d81-896f-d2a66df030a1",
   "metadata": {},
   "outputs": [
    {
     "data": {
      "text/html": [
       "<div>\n",
       "<style scoped>\n",
       "    .dataframe tbody tr th:only-of-type {\n",
       "        vertical-align: middle;\n",
       "    }\n",
       "\n",
       "    .dataframe tbody tr th {\n",
       "        vertical-align: top;\n",
       "    }\n",
       "\n",
       "    .dataframe thead th {\n",
       "        text-align: right;\n",
       "    }\n",
       "</style>\n",
       "<table border=\"1\" class=\"dataframe\">\n",
       "  <thead>\n",
       "    <tr style=\"text-align: right;\">\n",
       "      <th></th>\n",
       "      <th>ApplicantIncome</th>\n",
       "      <th>CoapplicantIncome</th>\n",
       "      <th>LoanAmount</th>\n",
       "    </tr>\n",
       "  </thead>\n",
       "  <tbody>\n",
       "    <tr>\n",
       "      <th>count</th>\n",
       "      <td>614.000000</td>\n",
       "      <td>614.000000</td>\n",
       "      <td>592.000000</td>\n",
       "    </tr>\n",
       "    <tr>\n",
       "      <th>mean</th>\n",
       "      <td>5403.459283</td>\n",
       "      <td>1621.245798</td>\n",
       "      <td>146.412162</td>\n",
       "    </tr>\n",
       "    <tr>\n",
       "      <th>std</th>\n",
       "      <td>6109.041673</td>\n",
       "      <td>2926.248369</td>\n",
       "      <td>85.587325</td>\n",
       "    </tr>\n",
       "    <tr>\n",
       "      <th>min</th>\n",
       "      <td>150.000000</td>\n",
       "      <td>0.000000</td>\n",
       "      <td>9.000000</td>\n",
       "    </tr>\n",
       "    <tr>\n",
       "      <th>25%</th>\n",
       "      <td>2877.500000</td>\n",
       "      <td>0.000000</td>\n",
       "      <td>100.000000</td>\n",
       "    </tr>\n",
       "    <tr>\n",
       "      <th>50%</th>\n",
       "      <td>3812.500000</td>\n",
       "      <td>1188.500000</td>\n",
       "      <td>128.000000</td>\n",
       "    </tr>\n",
       "    <tr>\n",
       "      <th>75%</th>\n",
       "      <td>5795.000000</td>\n",
       "      <td>2297.250000</td>\n",
       "      <td>168.000000</td>\n",
       "    </tr>\n",
       "    <tr>\n",
       "      <th>max</th>\n",
       "      <td>81000.000000</td>\n",
       "      <td>41667.000000</td>\n",
       "      <td>700.000000</td>\n",
       "    </tr>\n",
       "  </tbody>\n",
       "</table>\n",
       "</div>"
      ],
      "text/plain": [
       "       ApplicantIncome  CoapplicantIncome  LoanAmount\n",
       "count       614.000000         614.000000  592.000000\n",
       "mean       5403.459283        1621.245798  146.412162\n",
       "std        6109.041673        2926.248369   85.587325\n",
       "min         150.000000           0.000000    9.000000\n",
       "25%        2877.500000           0.000000  100.000000\n",
       "50%        3812.500000        1188.500000  128.000000\n",
       "75%        5795.000000        2297.250000  168.000000\n",
       "max       81000.000000       41667.000000  700.000000"
      ]
     },
     "execution_count": 38,
     "metadata": {},
     "output_type": "execute_result"
    }
   ],
   "source": [
    "df[[\"ApplicantIncome\",\"CoapplicantIncome\",\"LoanAmount\"]].describe()"
   ]
  },
  {
   "cell_type": "markdown",
   "id": "b137e40a-f8b8-4ac1-8b1b-3f4a52c777cf",
   "metadata": {},
   "source": [
    "### 4.2.2 Distribution of Numerical Variable\n",
    "In this section, I will show the distribution of numerical variable using histogram."
   ]
  },
  {
   "cell_type": "markdown",
   "id": "9b7d730d-397f-4512-aa20-97dfb4d29587",
   "metadata": {},
   "source": [
    "#### 4.2.2.1 Histogram Distribution"
   ]
  },
  {
   "cell_type": "code",
   "execution_count": 39,
   "id": "ea88c82b-873d-4739-ae85-cd0e0099b611",
   "metadata": {},
   "outputs": [
    {
     "data": {
      "text/plain": [
       "<Axes: xlabel='CoapplicantIncome', ylabel='Count'>"
      ]
     },
     "execution_count": 39,
     "metadata": {},
     "output_type": "execute_result"
    },
    {
     "data": {
      "image/png": "[encoded data removed]",
      "text/plain": [
       "<Figure size 640x480 with 2 Axes>"
      ]
     },
     "metadata": {},
     "output_type": "display_data"
    }
   ],
   "source": [
    "plt.subplot(2,2,1)\n",
    "sns.histplot(data = df, x =\"ApplicantIncome\", kde = True,color = \"Green\")\n",
    "plt.subplot(2,2,2)\n",
    "sns.histplot(data = df, x =\"CoapplicantIncome\",kde = True, color = \"Blue\")"
   ]
  },
  {
   "cell_type": "code",
   "execution_count": 40,
   "id": "fb929e15-3744-40b2-b9cd-267a15006b08",
   "metadata": {},
   "outputs": [
    {
     "data": {
      "text/plain": [
       "<Axes: xlabel='Loan_Amount_Term', ylabel='Count'>"
      ]
     },
     "execution_count": 40,
     "metadata": {},
     "output_type": "execute_result"
    },
    {
     "data": {
      "image/png": "[encoded data removed]",
      "text/plain": [
       "<Figure size 640x480 with 2 Axes>"
      ]
     },
     "metadata": {},
     "output_type": "display_data"
    }
   ],
   "source": [
    "plt.subplot(2,2,1)\n",
    "sns.histplot(data = df, x = \"LoanAmount\", kde = True, color = \"Orange\")\n",
    "plt.subplot(2,2,2)\n",
    "sns.histplot(data = df, x = \"Loan_Amount_Term\", kde = True, color = \"Red\")"
   ]
  },
  {
   "cell_type": "markdown",
   "id": "f6f148cf-6105-4457-8cd9-cc576634f327",
   "metadata": {},
   "source": [
    "#### 4.2.2.2 Boxplot"
   ]
  },
  {
   "cell_type": "code",
   "execution_count": 41,
   "id": "a9054f4a-b561-4c36-a30a-7791ea169a73",
   "metadata": {},
   "outputs": [
    {
     "data": {
      "text/plain": [
       "<Axes: xlabel='CoapplicantIncome'>"
      ]
     },
     "execution_count": 41,
     "metadata": {},
     "output_type": "execute_result"
    },
    {
     "data": {
      "image/png": "[encoded data removed]",
      "text/plain": [
       "<Figure size 640x480 with 2 Axes>"
      ]
     },
     "metadata": {},
     "output_type": "display_data"
    }
   ],
   "source": [
    "plt.subplot(2,2,1)\n",
    "sns.boxplot(data = df, x =\"ApplicantIncome\", color = \"Green\")\n",
    "plt.subplot(2,2,2)\n",
    "sns.boxplot(data = df, x =\"CoapplicantIncome\", color = \"Blue\")"
   ]
  },
  {
   "cell_type": "code",
   "execution_count": 42,
   "id": "46538f14-c07c-498b-84a4-42244d45f273",
   "metadata": {},
   "outputs": [
    {
     "data": {
      "text/plain": [
       "<Axes: xlabel='Loan_Amount_Term'>"
      ]
     },
     "execution_count": 42,
     "metadata": {},
     "output_type": "execute_result"
    },
    {
     "data": {
      "image/png": "[encoded data removed]",
      "text/plain": [
       "<Figure size 640x480 with 2 Axes>"
      ]
     },
     "metadata": {},
     "output_type": "display_data"
    }
   ],
   "source": [
    "plt.subplot(2,2,3)\n",
    "sns.boxplot(data = df, x = \"LoanAmount\", color = \"Orange\")\n",
    "plt.subplot(2,2,4)\n",
    "sns.boxplot(data = df, x = \"Loan_Amount_Term\", color = \"Red\")"
   ]
  },
  {
   "cell_type": "markdown",
   "id": "f7cfcc70-b3d0-4ea5-9459-97683c74982e",
   "metadata": {},
   "source": [
    "* The distribution of Applicant income, Co Applicant Income, and Loan Amount are positively skewed and it has outliers (can be seen from both histogram and boxplot).\n",
    "* The distribution of Loan Amount Term is negativly skewed and it has outliers."
   ]
  },
  {
   "cell_type": "markdown",
   "id": "5afe24d0-a33b-4e41-9c5e-0d749591e6df",
   "metadata": {},
   "source": [
    "## 4.3 Other Exploration\n",
    "This section will show additional exploration from each variables. The additional exploration are:\n",
    "* Bivariate analysis (categorical w/ categorical, categroical w/ numerical, and numerical w/ numerical)\n",
    "* Heatmap"
   ]
  },
  {
   "cell_type": "code",
   "execution_count": 43,
   "id": "ddbde950-d144-4a7f-8fcb-5802fb99496f",
   "metadata": {},
   "outputs": [],
   "source": [
    "df2 = df[[\"ApplicantIncome\",\"CoapplicantIncome\",\"LoanAmount\",\"Loan_Amount_Term\",\"Credit_History\"]]"
   ]
  },
  {
   "cell_type": "markdown",
   "id": "8b54b4a3-8e98-4d65-b7d5-58bed4088530",
   "metadata": {},
   "source": [
    "### 4.3.1 Heatmap"
   ]
  },
  {
   "cell_type": "code",
   "execution_count": 44,
   "id": "45eec470-fb4c-4cdb-a653-861867a43264",
   "metadata": {},
   "outputs": [
    {
     "data": {
      "text/plain": [
       "<Axes: >"
      ]
     },
     "execution_count": 44,
     "metadata": {},
     "output_type": "execute_result"
    },
    {
     "data": {
      "image/png": "[encoded data removed]",
      "text/plain": [
       "<Figure size 640x480 with 2 Axes>"
      ]
     },
     "metadata": {},
     "output_type": "display_data"
    }
   ],
   "source": [
    "sns.heatmap(df2.corr(),annot=True, cmap = \"inferno\")"
   ]
  },
  {
   "cell_type": "markdown",
   "id": "68d31ac2-a1cb-4464-bd2d-93d6fcf578a6",
   "metadata": {},
   "source": [
    "There is positive correlation between Loan Amount and Applicant Income"
   ]
  },
  {
   "cell_type": "markdown",
   "id": "1623c84c-6e18-406f-a9c6-17f21cde2258",
   "metadata": {},
   "source": [
    "### 4.3.2 Categorical VS Categorical"
   ]
  },
  {
   "cell_type": "code",
   "execution_count": 45,
   "id": "838fb893-0f4f-4ecb-8e27-22fa56cbf782",
   "metadata": {},
   "outputs": [],
   "source": [
    "import pandas as pd"
   ]
  },
  {
   "cell_type": "code",
   "execution_count": 46,
   "id": "ec9c5710-352a-49c2-b6b6-603cec9a7523",
   "metadata": {},
   "outputs": [
    {
     "data": {
      "text/plain": [
       "<Figure size 300x300 with 0 Axes>"
      ]
     },
     "metadata": {},
     "output_type": "display_data"
    },
    {
     "data": {
      "image/png": "[encoded data removed]",
      "text/plain": [
       "<Figure size 640x480 with 1 Axes>"
      ]
     },
     "metadata": {},
     "output_type": "display_data"
    }
   ],
   "source": [
    "plt.figure(figsize = (3,3))\n",
    "pd.crosstab(df.Gender,df.Married).plot(kind = \"bar\",stacked = True,color=['#f64f59','#12c2e9'],grid = True)\n",
    "plt.title(\"Gender Vs Married\")\n",
    "plt.xlabel(\"Gender\")\n",
    "plt.ylabel(\"Frequency\")\n",
    "plt.show()"
   ]
  },
  {
   "cell_type": "markdown",
   "id": "279d94aa-4a56-40f5-a95d-359d90b527e6",
   "metadata": {},
   "source": [
    "Most male applicants are already married compared to female applicants. Also, the number of not married male applicants are higher compare to female applicants that had not married."
   ]
  },
  {
   "cell_type": "code",
   "execution_count": 47,
   "id": "c677213f-a30f-4d61-b3c7-9d83a6d01543",
   "metadata": {},
   "outputs": [
    {
     "data": {
      "text/plain": [
       "<Figure size 300x300 with 0 Axes>"
      ]
     },
     "metadata": {},
     "output_type": "display_data"
    },
    {
     "data": {
      "image/png": "[encoded data removed]",
      "text/plain": [
       "<Figure size 640x480 with 1 Axes>"
      ]
     },
     "metadata": {},
     "output_type": "display_data"
    }
   ],
   "source": [
    "plt.figure(figsize = (3,3))\n",
    "pd.crosstab(df.Self_Employed,df.Credit_History).plot(kind = \"bar\",stacked = True,color=['#544a7d','#12c2e9'],grid = True)\n",
    "plt.title(\"Self Employed VS Credit History\")\n",
    "plt.xlabel(\"Self Employed\")\n",
    "plt.ylabel(\"Frequency\")\n",
    "plt.legend([\"Bad Credit\",\"Good Credit\"])\n",
    "plt.show()"
   ]
  },
  {
   "cell_type": "markdown",
   "id": "0c79ecd1-590a-44e7-8547-91af95e0aec9",
   "metadata": {},
   "source": [
    "Most not self employed applicants have good credit compared to self employed applicants."
   ]
  },
  {
   "cell_type": "code",
   "execution_count": 48,
   "id": "391572de-7b31-4710-b0ff-988e3dea0430",
   "metadata": {},
   "outputs": [
    {
     "data": {
      "text/html": [
       "<div>\n",
       "<style scoped>\n",
       "    .dataframe tbody tr th:only-of-type {\n",
       "        vertical-align: middle;\n",
       "    }\n",
       "\n",
       "    .dataframe tbody tr th {\n",
       "        vertical-align: top;\n",
       "    }\n",
       "\n",
       "    .dataframe thead th {\n",
       "        text-align: right;\n",
       "    }\n",
       "</style>\n",
       "<table border=\"1\" class=\"dataframe\">\n",
       "  <thead>\n",
       "    <tr style=\"text-align: right;\">\n",
       "      <th></th>\n",
       "      <th>Loan_ID</th>\n",
       "      <th>Gender</th>\n",
       "      <th>Married</th>\n",
       "      <th>Dependents</th>\n",
       "      <th>Education</th>\n",
       "      <th>Self_Employed</th>\n",
       "      <th>ApplicantIncome</th>\n",
       "      <th>CoapplicantIncome</th>\n",
       "      <th>LoanAmount</th>\n",
       "      <th>Loan_Amount_Term</th>\n",
       "      <th>Credit_History</th>\n",
       "      <th>Property_Area</th>\n",
       "      <th>Loan_Status</th>\n",
       "    </tr>\n",
       "  </thead>\n",
       "  <tbody>\n",
       "    <tr>\n",
       "      <th>0</th>\n",
       "      <td>LP001002</td>\n",
       "      <td>Male</td>\n",
       "      <td>No</td>\n",
       "      <td>0</td>\n",
       "      <td>Graduate</td>\n",
       "      <td>No</td>\n",
       "      <td>5849</td>\n",
       "      <td>0.0</td>\n",
       "      <td>NaN</td>\n",
       "      <td>360.0</td>\n",
       "      <td>1.0</td>\n",
       "      <td>Urban</td>\n",
       "      <td>Y</td>\n",
       "    </tr>\n",
       "    <tr>\n",
       "      <th>1</th>\n",
       "      <td>LP001003</td>\n",
       "      <td>Male</td>\n",
       "      <td>Yes</td>\n",
       "      <td>1</td>\n",
       "      <td>Graduate</td>\n",
       "      <td>No</td>\n",
       "      <td>4583</td>\n",
       "      <td>1508.0</td>\n",
       "      <td>128.0</td>\n",
       "      <td>360.0</td>\n",
       "      <td>1.0</td>\n",
       "      <td>Rural</td>\n",
       "      <td>N</td>\n",
       "    </tr>\n",
       "  </tbody>\n",
       "</table>\n",
       "</div>"
      ],
      "text/plain": [
       "    Loan_ID Gender Married Dependents Education Self_Employed  \\\n",
       "0  LP001002   Male      No          0  Graduate            No   \n",
       "1  LP001003   Male     Yes          1  Graduate            No   \n",
       "\n",
       "   ApplicantIncome  CoapplicantIncome  LoanAmount  Loan_Amount_Term  \\\n",
       "0             5849                0.0         NaN             360.0   \n",
       "1             4583             1508.0       128.0             360.0   \n",
       "\n",
       "   Credit_History Property_Area Loan_Status  \n",
       "0             1.0         Urban           Y  \n",
       "1             1.0         Rural           N  "
      ]
     },
     "execution_count": 48,
     "metadata": {},
     "output_type": "execute_result"
    }
   ],
   "source": [
    "df.head(2)"
   ]
  },
  {
   "cell_type": "code",
   "execution_count": 49,
   "id": "b36f7435-d44d-4c6e-9e36-494a246e9246",
   "metadata": {},
   "outputs": [
    {
     "data": {
      "image/png": "[encoded data removed]",
      "text/plain": [
       "<Figure size 500x500 with 1 Axes>"
      ]
     },
     "metadata": {},
     "output_type": "display_data"
    }
   ],
   "source": [
    "pd.crosstab(df.Property_Area,df.Loan_Status).plot(kind=\"bar\", stacked=True, figsize=(5,5), color=['#333333','#dd1818'])\n",
    "plt.title('Property Area vs Loan Status')\n",
    "plt.xlabel('Property Area')\n",
    "plt.ylabel('Frequency')\n",
    "plt.xticks(rotation=0)\n",
    "plt.show()"
   ]
  },
  {
   "cell_type": "markdown",
   "id": "a4717d17-3e60-42bd-94b2-d9a80fdd245e",
   "metadata": {},
   "source": [
    "Most of loan that got accepted has property in Semiurban compared to Urban and Rural."
   ]
  },
  {
   "cell_type": "markdown",
   "id": "64fbbedd-4381-4609-b93b-8dda7ccb3cef",
   "metadata": {},
   "source": [
    "### 4.3.3 Numerical - Numerical"
   ]
  },
  {
   "cell_type": "code",
   "execution_count": 50,
   "id": "2ea3407e-4175-4992-ba95-60dfb5ce323f",
   "metadata": {},
   "outputs": [
    {
     "data": {
      "image/png": "[encoded data removed]",
      "text/plain": [
       "<Figure size 640x480 with 1 Axes>"
      ]
     },
     "metadata": {},
     "output_type": "display_data"
    },
    {
     "name": "stdout",
     "output_type": "stream",
     "text": [
      "Pearson correlation: -0.11660458122889966\n",
      "T Test and P value: \n",
      " TtestResult(statistic=np.float64(13.835753259915665), pvalue=np.float64(1.460983948423972e-40), df=np.float64(1226.0))\n"
     ]
    }
   ],
   "source": [
    "df.plot(x='ApplicantIncome', y='CoapplicantIncome', style='o')  \n",
    "plt.title('Applicant Income - Co Applicant Income')  \n",
    "plt.xlabel('ApplicantIncome')\n",
    "plt.ylabel('CoapplicantIncome')  \n",
    "plt.show()\n",
    "print('Pearson correlation:', df['ApplicantIncome'].corr(df['CoapplicantIncome']))\n",
    "print('T Test and P value: \\n', stats.ttest_ind(df['ApplicantIncome'], df['CoapplicantIncome']))"
   ]
  },
  {
   "cell_type": "markdown",
   "id": "6a1212d3-2db6-4f20-a590-32296eb07c4b",
   "metadata": {},
   "source": [
    "* There is negative correlation between Applicant income and Co Applicant Income.\n",
    "* The correlation coefficient is significant at the 95 per cent confidence interval, as it has a p-value of 1.46"
   ]
  },
  {
   "cell_type": "markdown",
   "id": "de36ceb0-abd1-40f3-b516-7bd658dad67f",
   "metadata": {},
   "source": [
    "## 4.4 Null Values"
   ]
  },
  {
   "cell_type": "code",
   "execution_count": 51,
   "id": "a1ea751f-5e13-4fa6-88e6-7d2d63198014",
   "metadata": {},
   "outputs": [
    {
     "data": {
      "text/plain": [
       "Loan_ID               0\n",
       "Gender               13\n",
       "Married               3\n",
       "Dependents           15\n",
       "Education             0\n",
       "Self_Employed        32\n",
       "ApplicantIncome       0\n",
       "CoapplicantIncome     0\n",
       "LoanAmount           22\n",
       "Loan_Amount_Term     14\n",
       "Credit_History       50\n",
       "Property_Area         0\n",
       "Loan_Status           0\n",
       "dtype: int64"
      ]
     },
     "execution_count": 51,
     "metadata": {},
     "output_type": "execute_result"
    }
   ],
   "source": [
    "df.isnull().sum()"
   ]
  },
  {
   "cell_type": "code",
   "execution_count": 52,
   "id": "e1e7c27b-6fea-4a67-baff-a6acede30a3e",
   "metadata": {},
   "outputs": [
    {
     "data": {
      "text/plain": [
       "<Axes: >"
      ]
     },
     "execution_count": 52,
     "metadata": {},
     "output_type": "execute_result"
    },
    {
     "data": {
      "image/png": "[encoded data removed]",
      "text/plain": [
       "<Figure size 2500x1000 with 3 Axes>"
      ]
     },
     "metadata": {},
     "output_type": "display_data"
    }
   ],
   "source": [
    "plt.figure(figsize = (5,3))\n",
    "mso.bar(df, fontsize = 20)"
   ]
  },
  {
   "cell_type": "markdown",
   "id": "bdf6a498-7815-4c31-9976-3044497f7924",
   "metadata": {},
   "source": [
    "Previously, the null values has been explored for Categorical Variables. In this section, the null values has been explored for all variables in the dataset."
   ]
  },
  {
   "cell_type": "markdown",
   "id": "7c6833d1-c460-4859-869b-9ddab0814374",
   "metadata": {},
   "source": [
    "# 5. Data Preprocessing"
   ]
  },
  {
   "cell_type": "markdown",
   "id": "749d360d-5feb-46f6-8196-f2f65fa7a555",
   "metadata": {},
   "source": [
    "## 5.1 Drop Unecessary Variables \n",
    "Unecessary variables will be dropped in this section"
   ]
  },
  {
   "cell_type": "code",
   "execution_count": 53,
   "id": "b9043dc5-cff7-4372-b8d3-68f66cd4906c",
   "metadata": {},
   "outputs": [],
   "source": [
    "df = df.drop(labels = \"Loan_ID\", axis = 1)"
   ]
  },
  {
   "cell_type": "markdown",
   "id": "6c5c53c8-24fd-4b2b-a387-60744c17216f",
   "metadata": {},
   "source": [
    "## 5.2 Data Imputation\n",
    " Imputation is a technique for substituting an estimated value for missing values in a dataset. In this section, the imputation will be performed for variables that have missing values."
   ]
  },
  {
   "cell_type": "code",
   "execution_count": 54,
   "id": "c21858a4-f4e0-4aaa-a922-5d802c7ccb3a",
   "metadata": {},
   "outputs": [
    {
     "data": {
      "text/html": [
       "<div>\n",
       "<style scoped>\n",
       "    .dataframe tbody tr th:only-of-type {\n",
       "        vertical-align: middle;\n",
       "    }\n",
       "\n",
       "    .dataframe tbody tr th {\n",
       "        vertical-align: top;\n",
       "    }\n",
       "\n",
       "    .dataframe thead th {\n",
       "        text-align: right;\n",
       "    }\n",
       "</style>\n",
       "<table border=\"1\" class=\"dataframe\">\n",
       "  <thead>\n",
       "    <tr style=\"text-align: right;\">\n",
       "      <th></th>\n",
       "      <th>Gender</th>\n",
       "      <th>Married</th>\n",
       "      <th>Dependents</th>\n",
       "      <th>Education</th>\n",
       "      <th>Self_Employed</th>\n",
       "      <th>ApplicantIncome</th>\n",
       "      <th>CoapplicantIncome</th>\n",
       "      <th>LoanAmount</th>\n",
       "      <th>Loan_Amount_Term</th>\n",
       "      <th>Credit_History</th>\n",
       "      <th>Property_Area</th>\n",
       "      <th>Loan_Status</th>\n",
       "    </tr>\n",
       "  </thead>\n",
       "  <tbody>\n",
       "    <tr>\n",
       "      <th>0</th>\n",
       "      <td>Male</td>\n",
       "      <td>No</td>\n",
       "      <td>0</td>\n",
       "      <td>Graduate</td>\n",
       "      <td>No</td>\n",
       "      <td>5849</td>\n",
       "      <td>0.0</td>\n",
       "      <td>NaN</td>\n",
       "      <td>360.0</td>\n",
       "      <td>1.0</td>\n",
       "      <td>Urban</td>\n",
       "      <td>Y</td>\n",
       "    </tr>\n",
       "  </tbody>\n",
       "</table>\n",
       "</div>"
      ],
      "text/plain": [
       "  Gender Married Dependents Education Self_Employed  ApplicantIncome  \\\n",
       "0   Male      No          0  Graduate            No             5849   \n",
       "\n",
       "   CoapplicantIncome  LoanAmount  Loan_Amount_Term  Credit_History  \\\n",
       "0                0.0         NaN             360.0             1.0   \n",
       "\n",
       "  Property_Area Loan_Status  \n",
       "0         Urban           Y  "
      ]
     },
     "execution_count": 54,
     "metadata": {},
     "output_type": "execute_result"
    }
   ],
   "source": [
    "df.head(1)"
   ]
  },
  {
   "cell_type": "markdown",
   "id": "b5e2a95a-cc06-4d8c-9b05-6cc785f32022",
   "metadata": {},
   "source": [
    "### 5.2.1 Categorical Variables\n",
    " In this section, the imputation for categorical variables will be performed using mode."
   ]
  },
  {
   "cell_type": "code",
   "execution_count": 55,
   "id": "c2066233-ed88-4431-a2b4-b8cac8839f39",
   "metadata": {},
   "outputs": [
    {
     "data": {
      "text/plain": [
       "'Male'"
      ]
     },
     "execution_count": 55,
     "metadata": {},
     "output_type": "execute_result"
    }
   ],
   "source": [
    "df[\"Gender\"].mode()[0]"
   ]
  },
  {
   "cell_type": "code",
   "execution_count": 56,
   "id": "6a5d211f-6780-4c56-9fd8-30de3b219090",
   "metadata": {
    "scrolled": true
   },
   "outputs": [
    {
     "data": {
      "text/html": [
       "<div>\n",
       "<style scoped>\n",
       "    .dataframe tbody tr th:only-of-type {\n",
       "        vertical-align: middle;\n",
       "    }\n",
       "\n",
       "    .dataframe tbody tr th {\n",
       "        vertical-align: top;\n",
       "    }\n",
       "\n",
       "    .dataframe thead th {\n",
       "        text-align: right;\n",
       "    }\n",
       "</style>\n",
       "<table border=\"1\" class=\"dataframe\">\n",
       "  <thead>\n",
       "    <tr style=\"text-align: right;\">\n",
       "      <th></th>\n",
       "      <th>Gender</th>\n",
       "      <th>Married</th>\n",
       "      <th>Dependents</th>\n",
       "      <th>Education</th>\n",
       "      <th>Self_Employed</th>\n",
       "      <th>ApplicantIncome</th>\n",
       "      <th>CoapplicantIncome</th>\n",
       "      <th>LoanAmount</th>\n",
       "      <th>Loan_Amount_Term</th>\n",
       "      <th>Credit_History</th>\n",
       "      <th>Property_Area</th>\n",
       "      <th>Loan_Status</th>\n",
       "    </tr>\n",
       "  </thead>\n",
       "  <tbody>\n",
       "    <tr>\n",
       "      <th>0</th>\n",
       "      <td>Male</td>\n",
       "      <td>No</td>\n",
       "      <td>0</td>\n",
       "      <td>Graduate</td>\n",
       "      <td>No</td>\n",
       "      <td>5849</td>\n",
       "      <td>0.0</td>\n",
       "      <td>NaN</td>\n",
       "      <td>360.0</td>\n",
       "      <td>1.0</td>\n",
       "      <td>Urban</td>\n",
       "      <td>Y</td>\n",
       "    </tr>\n",
       "    <tr>\n",
       "      <th>1</th>\n",
       "      <td>Male</td>\n",
       "      <td>Yes</td>\n",
       "      <td>1</td>\n",
       "      <td>Graduate</td>\n",
       "      <td>No</td>\n",
       "      <td>4583</td>\n",
       "      <td>1508.0</td>\n",
       "      <td>128.0</td>\n",
       "      <td>360.0</td>\n",
       "      <td>1.0</td>\n",
       "      <td>Rural</td>\n",
       "      <td>N</td>\n",
       "    </tr>\n",
       "    <tr>\n",
       "      <th>2</th>\n",
       "      <td>Male</td>\n",
       "      <td>Yes</td>\n",
       "      <td>0</td>\n",
       "      <td>Graduate</td>\n",
       "      <td>Yes</td>\n",
       "      <td>3000</td>\n",
       "      <td>0.0</td>\n",
       "      <td>66.0</td>\n",
       "      <td>360.0</td>\n",
       "      <td>1.0</td>\n",
       "      <td>Urban</td>\n",
       "      <td>Y</td>\n",
       "    </tr>\n",
       "    <tr>\n",
       "      <th>3</th>\n",
       "      <td>Male</td>\n",
       "      <td>Yes</td>\n",
       "      <td>0</td>\n",
       "      <td>Not Graduate</td>\n",
       "      <td>No</td>\n",
       "      <td>2583</td>\n",
       "      <td>2358.0</td>\n",
       "      <td>120.0</td>\n",
       "      <td>360.0</td>\n",
       "      <td>1.0</td>\n",
       "      <td>Urban</td>\n",
       "      <td>Y</td>\n",
       "    </tr>\n",
       "    <tr>\n",
       "      <th>4</th>\n",
       "      <td>Male</td>\n",
       "      <td>No</td>\n",
       "      <td>0</td>\n",
       "      <td>Graduate</td>\n",
       "      <td>No</td>\n",
       "      <td>6000</td>\n",
       "      <td>0.0</td>\n",
       "      <td>141.0</td>\n",
       "      <td>360.0</td>\n",
       "      <td>1.0</td>\n",
       "      <td>Urban</td>\n",
       "      <td>Y</td>\n",
       "    </tr>\n",
       "    <tr>\n",
       "      <th>5</th>\n",
       "      <td>Male</td>\n",
       "      <td>Yes</td>\n",
       "      <td>2</td>\n",
       "      <td>Graduate</td>\n",
       "      <td>Yes</td>\n",
       "      <td>5417</td>\n",
       "      <td>4196.0</td>\n",
       "      <td>267.0</td>\n",
       "      <td>360.0</td>\n",
       "      <td>1.0</td>\n",
       "      <td>Urban</td>\n",
       "      <td>Y</td>\n",
       "    </tr>\n",
       "    <tr>\n",
       "      <th>6</th>\n",
       "      <td>Male</td>\n",
       "      <td>Yes</td>\n",
       "      <td>0</td>\n",
       "      <td>Not Graduate</td>\n",
       "      <td>No</td>\n",
       "      <td>2333</td>\n",
       "      <td>1516.0</td>\n",
       "      <td>95.0</td>\n",
       "      <td>360.0</td>\n",
       "      <td>1.0</td>\n",
       "      <td>Urban</td>\n",
       "      <td>Y</td>\n",
       "    </tr>\n",
       "    <tr>\n",
       "      <th>7</th>\n",
       "      <td>Male</td>\n",
       "      <td>Yes</td>\n",
       "      <td>3+</td>\n",
       "      <td>Graduate</td>\n",
       "      <td>No</td>\n",
       "      <td>3036</td>\n",
       "      <td>2504.0</td>\n",
       "      <td>158.0</td>\n",
       "      <td>360.0</td>\n",
       "      <td>0.0</td>\n",
       "      <td>Semiurban</td>\n",
       "      <td>N</td>\n",
       "    </tr>\n",
       "    <tr>\n",
       "      <th>8</th>\n",
       "      <td>Male</td>\n",
       "      <td>Yes</td>\n",
       "      <td>2</td>\n",
       "      <td>Graduate</td>\n",
       "      <td>No</td>\n",
       "      <td>4006</td>\n",
       "      <td>1526.0</td>\n",
       "      <td>168.0</td>\n",
       "      <td>360.0</td>\n",
       "      <td>1.0</td>\n",
       "      <td>Urban</td>\n",
       "      <td>Y</td>\n",
       "    </tr>\n",
       "    <tr>\n",
       "      <th>9</th>\n",
       "      <td>Male</td>\n",
       "      <td>Yes</td>\n",
       "      <td>1</td>\n",
       "      <td>Graduate</td>\n",
       "      <td>No</td>\n",
       "      <td>12841</td>\n",
       "      <td>10968.0</td>\n",
       "      <td>349.0</td>\n",
       "      <td>360.0</td>\n",
       "      <td>1.0</td>\n",
       "      <td>Semiurban</td>\n",
       "      <td>N</td>\n",
       "    </tr>\n",
       "    <tr>\n",
       "      <th>10</th>\n",
       "      <td>Male</td>\n",
       "      <td>Yes</td>\n",
       "      <td>2</td>\n",
       "      <td>Graduate</td>\n",
       "      <td>No</td>\n",
       "      <td>3200</td>\n",
       "      <td>700.0</td>\n",
       "      <td>70.0</td>\n",
       "      <td>360.0</td>\n",
       "      <td>1.0</td>\n",
       "      <td>Urban</td>\n",
       "      <td>Y</td>\n",
       "    </tr>\n",
       "    <tr>\n",
       "      <th>11</th>\n",
       "      <td>Male</td>\n",
       "      <td>Yes</td>\n",
       "      <td>2</td>\n",
       "      <td>Graduate</td>\n",
       "      <td>NaN</td>\n",
       "      <td>2500</td>\n",
       "      <td>1840.0</td>\n",
       "      <td>109.0</td>\n",
       "      <td>360.0</td>\n",
       "      <td>1.0</td>\n",
       "      <td>Urban</td>\n",
       "      <td>Y</td>\n",
       "    </tr>\n",
       "    <tr>\n",
       "      <th>12</th>\n",
       "      <td>Male</td>\n",
       "      <td>Yes</td>\n",
       "      <td>2</td>\n",
       "      <td>Graduate</td>\n",
       "      <td>No</td>\n",
       "      <td>3073</td>\n",
       "      <td>8106.0</td>\n",
       "      <td>200.0</td>\n",
       "      <td>360.0</td>\n",
       "      <td>1.0</td>\n",
       "      <td>Urban</td>\n",
       "      <td>Y</td>\n",
       "    </tr>\n",
       "    <tr>\n",
       "      <th>13</th>\n",
       "      <td>Male</td>\n",
       "      <td>No</td>\n",
       "      <td>0</td>\n",
       "      <td>Graduate</td>\n",
       "      <td>No</td>\n",
       "      <td>1853</td>\n",
       "      <td>2840.0</td>\n",
       "      <td>114.0</td>\n",
       "      <td>360.0</td>\n",
       "      <td>1.0</td>\n",
       "      <td>Rural</td>\n",
       "      <td>N</td>\n",
       "    </tr>\n",
       "    <tr>\n",
       "      <th>14</th>\n",
       "      <td>Male</td>\n",
       "      <td>Yes</td>\n",
       "      <td>2</td>\n",
       "      <td>Graduate</td>\n",
       "      <td>No</td>\n",
       "      <td>1299</td>\n",
       "      <td>1086.0</td>\n",
       "      <td>17.0</td>\n",
       "      <td>120.0</td>\n",
       "      <td>1.0</td>\n",
       "      <td>Urban</td>\n",
       "      <td>Y</td>\n",
       "    </tr>\n",
       "    <tr>\n",
       "      <th>15</th>\n",
       "      <td>Male</td>\n",
       "      <td>No</td>\n",
       "      <td>0</td>\n",
       "      <td>Graduate</td>\n",
       "      <td>No</td>\n",
       "      <td>4950</td>\n",
       "      <td>0.0</td>\n",
       "      <td>125.0</td>\n",
       "      <td>360.0</td>\n",
       "      <td>1.0</td>\n",
       "      <td>Urban</td>\n",
       "      <td>Y</td>\n",
       "    </tr>\n",
       "    <tr>\n",
       "      <th>16</th>\n",
       "      <td>Male</td>\n",
       "      <td>No</td>\n",
       "      <td>1</td>\n",
       "      <td>Not Graduate</td>\n",
       "      <td>No</td>\n",
       "      <td>3596</td>\n",
       "      <td>0.0</td>\n",
       "      <td>100.0</td>\n",
       "      <td>240.0</td>\n",
       "      <td>NaN</td>\n",
       "      <td>Urban</td>\n",
       "      <td>Y</td>\n",
       "    </tr>\n",
       "    <tr>\n",
       "      <th>17</th>\n",
       "      <td>Female</td>\n",
       "      <td>No</td>\n",
       "      <td>0</td>\n",
       "      <td>Graduate</td>\n",
       "      <td>No</td>\n",
       "      <td>3510</td>\n",
       "      <td>0.0</td>\n",
       "      <td>76.0</td>\n",
       "      <td>360.0</td>\n",
       "      <td>0.0</td>\n",
       "      <td>Urban</td>\n",
       "      <td>N</td>\n",
       "    </tr>\n",
       "    <tr>\n",
       "      <th>18</th>\n",
       "      <td>Male</td>\n",
       "      <td>Yes</td>\n",
       "      <td>0</td>\n",
       "      <td>Not Graduate</td>\n",
       "      <td>No</td>\n",
       "      <td>4887</td>\n",
       "      <td>0.0</td>\n",
       "      <td>133.0</td>\n",
       "      <td>360.0</td>\n",
       "      <td>1.0</td>\n",
       "      <td>Rural</td>\n",
       "      <td>N</td>\n",
       "    </tr>\n",
       "    <tr>\n",
       "      <th>19</th>\n",
       "      <td>Male</td>\n",
       "      <td>Yes</td>\n",
       "      <td>0</td>\n",
       "      <td>Graduate</td>\n",
       "      <td>NaN</td>\n",
       "      <td>2600</td>\n",
       "      <td>3500.0</td>\n",
       "      <td>115.0</td>\n",
       "      <td>NaN</td>\n",
       "      <td>1.0</td>\n",
       "      <td>Urban</td>\n",
       "      <td>Y</td>\n",
       "    </tr>\n",
       "    <tr>\n",
       "      <th>20</th>\n",
       "      <td>Male</td>\n",
       "      <td>Yes</td>\n",
       "      <td>0</td>\n",
       "      <td>Not Graduate</td>\n",
       "      <td>No</td>\n",
       "      <td>7660</td>\n",
       "      <td>0.0</td>\n",
       "      <td>104.0</td>\n",
       "      <td>360.0</td>\n",
       "      <td>0.0</td>\n",
       "      <td>Urban</td>\n",
       "      <td>N</td>\n",
       "    </tr>\n",
       "    <tr>\n",
       "      <th>21</th>\n",
       "      <td>Male</td>\n",
       "      <td>Yes</td>\n",
       "      <td>1</td>\n",
       "      <td>Graduate</td>\n",
       "      <td>No</td>\n",
       "      <td>5955</td>\n",
       "      <td>5625.0</td>\n",
       "      <td>315.0</td>\n",
       "      <td>360.0</td>\n",
       "      <td>1.0</td>\n",
       "      <td>Urban</td>\n",
       "      <td>Y</td>\n",
       "    </tr>\n",
       "    <tr>\n",
       "      <th>22</th>\n",
       "      <td>Male</td>\n",
       "      <td>Yes</td>\n",
       "      <td>0</td>\n",
       "      <td>Not Graduate</td>\n",
       "      <td>No</td>\n",
       "      <td>2600</td>\n",
       "      <td>1911.0</td>\n",
       "      <td>116.0</td>\n",
       "      <td>360.0</td>\n",
       "      <td>0.0</td>\n",
       "      <td>Semiurban</td>\n",
       "      <td>N</td>\n",
       "    </tr>\n",
       "    <tr>\n",
       "      <th>23</th>\n",
       "      <td>NaN</td>\n",
       "      <td>Yes</td>\n",
       "      <td>2</td>\n",
       "      <td>Not Graduate</td>\n",
       "      <td>No</td>\n",
       "      <td>3365</td>\n",
       "      <td>1917.0</td>\n",
       "      <td>112.0</td>\n",
       "      <td>360.0</td>\n",
       "      <td>0.0</td>\n",
       "      <td>Rural</td>\n",
       "      <td>N</td>\n",
       "    </tr>\n",
       "    <tr>\n",
       "      <th>24</th>\n",
       "      <td>Male</td>\n",
       "      <td>Yes</td>\n",
       "      <td>1</td>\n",
       "      <td>Graduate</td>\n",
       "      <td>NaN</td>\n",
       "      <td>3717</td>\n",
       "      <td>2925.0</td>\n",
       "      <td>151.0</td>\n",
       "      <td>360.0</td>\n",
       "      <td>NaN</td>\n",
       "      <td>Semiurban</td>\n",
       "      <td>N</td>\n",
       "    </tr>\n",
       "    <tr>\n",
       "      <th>25</th>\n",
       "      <td>Male</td>\n",
       "      <td>Yes</td>\n",
       "      <td>0</td>\n",
       "      <td>Graduate</td>\n",
       "      <td>Yes</td>\n",
       "      <td>9560</td>\n",
       "      <td>0.0</td>\n",
       "      <td>191.0</td>\n",
       "      <td>360.0</td>\n",
       "      <td>1.0</td>\n",
       "      <td>Semiurban</td>\n",
       "      <td>Y</td>\n",
       "    </tr>\n",
       "    <tr>\n",
       "      <th>26</th>\n",
       "      <td>Male</td>\n",
       "      <td>Yes</td>\n",
       "      <td>0</td>\n",
       "      <td>Graduate</td>\n",
       "      <td>No</td>\n",
       "      <td>2799</td>\n",
       "      <td>2253.0</td>\n",
       "      <td>122.0</td>\n",
       "      <td>360.0</td>\n",
       "      <td>1.0</td>\n",
       "      <td>Semiurban</td>\n",
       "      <td>Y</td>\n",
       "    </tr>\n",
       "    <tr>\n",
       "      <th>27</th>\n",
       "      <td>Male</td>\n",
       "      <td>Yes</td>\n",
       "      <td>2</td>\n",
       "      <td>Not Graduate</td>\n",
       "      <td>No</td>\n",
       "      <td>4226</td>\n",
       "      <td>1040.0</td>\n",
       "      <td>110.0</td>\n",
       "      <td>360.0</td>\n",
       "      <td>1.0</td>\n",
       "      <td>Urban</td>\n",
       "      <td>Y</td>\n",
       "    </tr>\n",
       "    <tr>\n",
       "      <th>28</th>\n",
       "      <td>Male</td>\n",
       "      <td>No</td>\n",
       "      <td>0</td>\n",
       "      <td>Not Graduate</td>\n",
       "      <td>No</td>\n",
       "      <td>1442</td>\n",
       "      <td>0.0</td>\n",
       "      <td>35.0</td>\n",
       "      <td>360.0</td>\n",
       "      <td>1.0</td>\n",
       "      <td>Urban</td>\n",
       "      <td>N</td>\n",
       "    </tr>\n",
       "    <tr>\n",
       "      <th>29</th>\n",
       "      <td>Female</td>\n",
       "      <td>No</td>\n",
       "      <td>2</td>\n",
       "      <td>Graduate</td>\n",
       "      <td>NaN</td>\n",
       "      <td>3750</td>\n",
       "      <td>2083.0</td>\n",
       "      <td>120.0</td>\n",
       "      <td>360.0</td>\n",
       "      <td>1.0</td>\n",
       "      <td>Semiurban</td>\n",
       "      <td>Y</td>\n",
       "    </tr>\n",
       "  </tbody>\n",
       "</table>\n",
       "</div>"
      ],
      "text/plain": [
       "    Gender Married Dependents     Education Self_Employed  ApplicantIncome  \\\n",
       "0     Male      No          0      Graduate            No             5849   \n",
       "1     Male     Yes          1      Graduate            No             4583   \n",
       "2     Male     Yes          0      Graduate           Yes             3000   \n",
       "3     Male     Yes          0  Not Graduate            No             2583   \n",
       "4     Male      No          0      Graduate            No             6000   \n",
       "5     Male     Yes          2      Graduate           Yes             5417   \n",
       "6     Male     Yes          0  Not Graduate            No             2333   \n",
       "7     Male     Yes         3+      Graduate            No             3036   \n",
       "8     Male     Yes          2      Graduate            No             4006   \n",
       "9     Male     Yes          1      Graduate            No            12841   \n",
       "10    Male     Yes          2      Graduate            No             3200   \n",
       "11    Male     Yes          2      Graduate           NaN             2500   \n",
       "12    Male     Yes          2      Graduate            No             3073   \n",
       "13    Male      No          0      Graduate            No             1853   \n",
       "14    Male     Yes          2      Graduate            No             1299   \n",
       "15    Male      No          0      Graduate            No             4950   \n",
       "16    Male      No          1  Not Graduate            No             3596   \n",
       "17  Female      No          0      Graduate            No             3510   \n",
       "18    Male     Yes          0  Not Graduate            No             4887   \n",
       "19    Male     Yes          0      Graduate           NaN             2600   \n",
       "20    Male     Yes          0  Not Graduate            No             7660   \n",
       "21    Male     Yes          1      Graduate            No             5955   \n",
       "22    Male     Yes          0  Not Graduate            No             2600   \n",
       "23     NaN     Yes          2  Not Graduate            No             3365   \n",
       "24    Male     Yes          1      Graduate           NaN             3717   \n",
       "25    Male     Yes          0      Graduate           Yes             9560   \n",
       "26    Male     Yes          0      Graduate            No             2799   \n",
       "27    Male     Yes          2  Not Graduate            No             4226   \n",
       "28    Male      No          0  Not Graduate            No             1442   \n",
       "29  Female      No          2      Graduate           NaN             3750   \n",
       "\n",
       "    CoapplicantIncome  LoanAmount  Loan_Amount_Term  Credit_History  \\\n",
       "0                 0.0         NaN             360.0             1.0   \n",
       "1              1508.0       128.0             360.0             1.0   \n",
       "2                 0.0        66.0             360.0             1.0   \n",
       "3              2358.0       120.0             360.0             1.0   \n",
       "4                 0.0       141.0             360.0             1.0   \n",
       "5              4196.0       267.0             360.0             1.0   \n",
       "6              1516.0        95.0             360.0             1.0   \n",
       "7              2504.0       158.0             360.0             0.0   \n",
       "8              1526.0       168.0             360.0             1.0   \n",
       "9             10968.0       349.0             360.0             1.0   \n",
       "10              700.0        70.0             360.0             1.0   \n",
       "11             1840.0       109.0             360.0             1.0   \n",
       "12             8106.0       200.0             360.0             1.0   \n",
       "13             2840.0       114.0             360.0             1.0   \n",
       "14             1086.0        17.0             120.0             1.0   \n",
       "15                0.0       125.0             360.0             1.0   \n",
       "16                0.0       100.0             240.0             NaN   \n",
       "17                0.0        76.0             360.0             0.0   \n",
       "18                0.0       133.0             360.0             1.0   \n",
       "19             3500.0       115.0               NaN             1.0   \n",
       "20                0.0       104.0             360.0             0.0   \n",
       "21             5625.0       315.0             360.0             1.0   \n",
       "22             1911.0       116.0             360.0             0.0   \n",
       "23             1917.0       112.0             360.0             0.0   \n",
       "24             2925.0       151.0             360.0             NaN   \n",
       "25                0.0       191.0             360.0             1.0   \n",
       "26             2253.0       122.0             360.0             1.0   \n",
       "27             1040.0       110.0             360.0             1.0   \n",
       "28                0.0        35.0             360.0             1.0   \n",
       "29             2083.0       120.0             360.0             1.0   \n",
       "\n",
       "   Property_Area Loan_Status  \n",
       "0          Urban           Y  \n",
       "1          Rural           N  \n",
       "2          Urban           Y  \n",
       "3          Urban           Y  \n",
       "4          Urban           Y  \n",
       "5          Urban           Y  \n",
       "6          Urban           Y  \n",
       "7      Semiurban           N  \n",
       "8          Urban           Y  \n",
       "9      Semiurban           N  \n",
       "10         Urban           Y  \n",
       "11         Urban           Y  \n",
       "12         Urban           Y  \n",
       "13         Rural           N  \n",
       "14         Urban           Y  \n",
       "15         Urban           Y  \n",
       "16         Urban           Y  \n",
       "17         Urban           N  \n",
       "18         Rural           N  \n",
       "19         Urban           Y  \n",
       "20         Urban           N  \n",
       "21         Urban           Y  \n",
       "22     Semiurban           N  \n",
       "23         Rural           N  \n",
       "24     Semiurban           N  \n",
       "25     Semiurban           Y  \n",
       "26     Semiurban           Y  \n",
       "27         Urban           Y  \n",
       "28         Urban           N  \n",
       "29     Semiurban           Y  "
      ]
     },
     "execution_count": 56,
     "metadata": {},
     "output_type": "execute_result"
    }
   ],
   "source": [
    "df.head(30)"
   ]
  },
  {
   "cell_type": "code",
   "execution_count": 57,
   "id": "6b9f52cb-7a09-4a1c-8d2f-e42194a550d6",
   "metadata": {},
   "outputs": [],
   "source": [
    "df['Gender'].fillna(df[\"Gender\"].mode()[0],inplace = True)\n",
    "df['Married'].fillna(df[\"Married\"].mode()[0],inplace = True)\n",
    "df[\"Dependents\"].fillna(df[\"Dependents\"].mode()[0],inplace = True)\n",
    "df[\"Self_Employed\"].fillna(df[\"Self_Employed\"].mode()[0],inplace = True)\n",
    "df[\"Loan_Amount_Term\"].fillna(df[\"Loan_Amount_Term\"].mode()[0],inplace = True)\n",
    "df[\"Credit_History\"].fillna(df[\"Credit_History\"].mode()[0],inplace = True)"
   ]
  },
  {
   "cell_type": "code",
   "execution_count": 58,
   "id": "20868dca-2d6f-4db3-bd27-d7c46aab868a",
   "metadata": {},
   "outputs": [
    {
     "data": {
      "text/plain": [
       "Gender                0\n",
       "Married               0\n",
       "Dependents            0\n",
       "Education             0\n",
       "Self_Employed         0\n",
       "ApplicantIncome       0\n",
       "CoapplicantIncome     0\n",
       "LoanAmount           22\n",
       "Loan_Amount_Term      0\n",
       "Credit_History        0\n",
       "Property_Area         0\n",
       "Loan_Status           0\n",
       "dtype: int64"
      ]
     },
     "execution_count": 58,
     "metadata": {},
     "output_type": "execute_result"
    }
   ],
   "source": [
    "df.isnull().sum()"
   ]
  },
  {
   "cell_type": "markdown",
   "id": "00029d83-1682-4fb4-8a1b-cc5399e817c9",
   "metadata": {},
   "source": [
    "### 5.2.2 Numerical Variables\n",
    "The next section is imputation for numerical variables using mean."
   ]
  },
  {
   "cell_type": "code",
   "execution_count": 59,
   "id": "43ece66f-3d19-4472-ae9c-5f331bbda3e5",
   "metadata": {},
   "outputs": [],
   "source": [
    "df[\"LoanAmount\"].fillna(df[\"LoanAmount\"].mean(),inplace = True)"
   ]
  },
  {
   "cell_type": "markdown",
   "id": "ddab52ee-7e1f-46bd-b9f4-08c4da736d1c",
   "metadata": {},
   "source": [
    "## 5.3 One-hot Encoding \n",
    "In this section, I will transform categorical variables into a form that could be provided by ML algorithms to do a better prediction."
   ]
  },
  {
   "cell_type": "code",
   "execution_count": 60,
   "id": "6d6ca0d4-2a24-4c3c-9c83-d8baaf8666f6",
   "metadata": {},
   "outputs": [],
   "source": [
    "df = pd.get_dummies(df)"
   ]
  },
  {
   "cell_type": "code",
   "execution_count": 61,
   "id": "3b892dee-6e03-4922-b7dd-956916b44f29",
   "metadata": {},
   "outputs": [
    {
     "data": {
      "text/html": [
       "<div>\n",
       "<style scoped>\n",
       "    .dataframe tbody tr th:only-of-type {\n",
       "        vertical-align: middle;\n",
       "    }\n",
       "\n",
       "    .dataframe tbody tr th {\n",
       "        vertical-align: top;\n",
       "    }\n",
       "\n",
       "    .dataframe thead th {\n",
       "        text-align: right;\n",
       "    }\n",
       "</style>\n",
       "<table border=\"1\" class=\"dataframe\">\n",
       "  <thead>\n",
       "    <tr style=\"text-align: right;\">\n",
       "      <th></th>\n",
       "      <th>ApplicantIncome</th>\n",
       "      <th>CoapplicantIncome</th>\n",
       "      <th>LoanAmount</th>\n",
       "      <th>Loan_Amount_Term</th>\n",
       "      <th>Credit_History</th>\n",
       "      <th>Gender_Female</th>\n",
       "      <th>Gender_Male</th>\n",
       "      <th>Married_No</th>\n",
       "      <th>Married_Yes</th>\n",
       "      <th>Dependents_0</th>\n",
       "      <th>...</th>\n",
       "      <th>Dependents_3+</th>\n",
       "      <th>Education_Graduate</th>\n",
       "      <th>Education_Not Graduate</th>\n",
       "      <th>Self_Employed_No</th>\n",
       "      <th>Self_Employed_Yes</th>\n",
       "      <th>Property_Area_Rural</th>\n",
       "      <th>Property_Area_Semiurban</th>\n",
       "      <th>Property_Area_Urban</th>\n",
       "      <th>Loan_Status_N</th>\n",
       "      <th>Loan_Status_Y</th>\n",
       "    </tr>\n",
       "  </thead>\n",
       "  <tbody>\n",
       "    <tr>\n",
       "      <th>0</th>\n",
       "      <td>5849</td>\n",
       "      <td>0.0</td>\n",
       "      <td>146.412162</td>\n",
       "      <td>360.0</td>\n",
       "      <td>1.0</td>\n",
       "      <td>False</td>\n",
       "      <td>True</td>\n",
       "      <td>True</td>\n",
       "      <td>False</td>\n",
       "      <td>True</td>\n",
       "      <td>...</td>\n",
       "      <td>False</td>\n",
       "      <td>True</td>\n",
       "      <td>False</td>\n",
       "      <td>True</td>\n",
       "      <td>False</td>\n",
       "      <td>False</td>\n",
       "      <td>False</td>\n",
       "      <td>True</td>\n",
       "      <td>False</td>\n",
       "      <td>True</td>\n",
       "    </tr>\n",
       "    <tr>\n",
       "      <th>1</th>\n",
       "      <td>4583</td>\n",
       "      <td>1508.0</td>\n",
       "      <td>128.000000</td>\n",
       "      <td>360.0</td>\n",
       "      <td>1.0</td>\n",
       "      <td>False</td>\n",
       "      <td>True</td>\n",
       "      <td>False</td>\n",
       "      <td>True</td>\n",
       "      <td>False</td>\n",
       "      <td>...</td>\n",
       "      <td>False</td>\n",
       "      <td>True</td>\n",
       "      <td>False</td>\n",
       "      <td>True</td>\n",
       "      <td>False</td>\n",
       "      <td>True</td>\n",
       "      <td>False</td>\n",
       "      <td>False</td>\n",
       "      <td>True</td>\n",
       "      <td>False</td>\n",
       "    </tr>\n",
       "    <tr>\n",
       "      <th>2</th>\n",
       "      <td>3000</td>\n",
       "      <td>0.0</td>\n",
       "      <td>66.000000</td>\n",
       "      <td>360.0</td>\n",
       "      <td>1.0</td>\n",
       "      <td>False</td>\n",
       "      <td>True</td>\n",
       "      <td>False</td>\n",
       "      <td>True</td>\n",
       "      <td>True</td>\n",
       "      <td>...</td>\n",
       "      <td>False</td>\n",
       "      <td>True</td>\n",
       "      <td>False</td>\n",
       "      <td>False</td>\n",
       "      <td>True</td>\n",
       "      <td>False</td>\n",
       "      <td>False</td>\n",
       "      <td>True</td>\n",
       "      <td>False</td>\n",
       "      <td>True</td>\n",
       "    </tr>\n",
       "    <tr>\n",
       "      <th>3</th>\n",
       "      <td>2583</td>\n",
       "      <td>2358.0</td>\n",
       "      <td>120.000000</td>\n",
       "      <td>360.0</td>\n",
       "      <td>1.0</td>\n",
       "      <td>False</td>\n",
       "      <td>True</td>\n",
       "      <td>False</td>\n",
       "      <td>True</td>\n",
       "      <td>True</td>\n",
       "      <td>...</td>\n",
       "      <td>False</td>\n",
       "      <td>False</td>\n",
       "      <td>True</td>\n",
       "      <td>True</td>\n",
       "      <td>False</td>\n",
       "      <td>False</td>\n",
       "      <td>False</td>\n",
       "      <td>True</td>\n",
       "      <td>False</td>\n",
       "      <td>True</td>\n",
       "    </tr>\n",
       "    <tr>\n",
       "      <th>4</th>\n",
       "      <td>6000</td>\n",
       "      <td>0.0</td>\n",
       "      <td>141.000000</td>\n",
       "      <td>360.0</td>\n",
       "      <td>1.0</td>\n",
       "      <td>False</td>\n",
       "      <td>True</td>\n",
       "      <td>True</td>\n",
       "      <td>False</td>\n",
       "      <td>True</td>\n",
       "      <td>...</td>\n",
       "      <td>False</td>\n",
       "      <td>True</td>\n",
       "      <td>False</td>\n",
       "      <td>True</td>\n",
       "      <td>False</td>\n",
       "      <td>False</td>\n",
       "      <td>False</td>\n",
       "      <td>True</td>\n",
       "      <td>False</td>\n",
       "      <td>True</td>\n",
       "    </tr>\n",
       "    <tr>\n",
       "      <th>...</th>\n",
       "      <td>...</td>\n",
       "      <td>...</td>\n",
       "      <td>...</td>\n",
       "      <td>...</td>\n",
       "      <td>...</td>\n",
       "      <td>...</td>\n",
       "      <td>...</td>\n",
       "      <td>...</td>\n",
       "      <td>...</td>\n",
       "      <td>...</td>\n",
       "      <td>...</td>\n",
       "      <td>...</td>\n",
       "      <td>...</td>\n",
       "      <td>...</td>\n",
       "      <td>...</td>\n",
       "      <td>...</td>\n",
       "      <td>...</td>\n",
       "      <td>...</td>\n",
       "      <td>...</td>\n",
       "      <td>...</td>\n",
       "      <td>...</td>\n",
       "    </tr>\n",
       "    <tr>\n",
       "      <th>609</th>\n",
       "      <td>2900</td>\n",
       "      <td>0.0</td>\n",
       "      <td>71.000000</td>\n",
       "      <td>360.0</td>\n",
       "      <td>1.0</td>\n",
       "      <td>True</td>\n",
       "      <td>False</td>\n",
       "      <td>True</td>\n",
       "      <td>False</td>\n",
       "      <td>True</td>\n",
       "      <td>...</td>\n",
       "      <td>False</td>\n",
       "      <td>True</td>\n",
       "      <td>False</td>\n",
       "      <td>True</td>\n",
       "      <td>False</td>\n",
       "      <td>True</td>\n",
       "      <td>False</td>\n",
       "      <td>False</td>\n",
       "      <td>False</td>\n",
       "      <td>True</td>\n",
       "    </tr>\n",
       "    <tr>\n",
       "      <th>610</th>\n",
       "      <td>4106</td>\n",
       "      <td>0.0</td>\n",
       "      <td>40.000000</td>\n",
       "      <td>180.0</td>\n",
       "      <td>1.0</td>\n",
       "      <td>False</td>\n",
       "      <td>True</td>\n",
       "      <td>False</td>\n",
       "      <td>True</td>\n",
       "      <td>False</td>\n",
       "      <td>...</td>\n",
       "      <td>True</td>\n",
       "      <td>True</td>\n",
       "      <td>False</td>\n",
       "      <td>True</td>\n",
       "      <td>False</td>\n",
       "      <td>True</td>\n",
       "      <td>False</td>\n",
       "      <td>False</td>\n",
       "      <td>False</td>\n",
       "      <td>True</td>\n",
       "    </tr>\n",
       "    <tr>\n",
       "      <th>611</th>\n",
       "      <td>8072</td>\n",
       "      <td>240.0</td>\n",
       "      <td>253.000000</td>\n",
       "      <td>360.0</td>\n",
       "      <td>1.0</td>\n",
       "      <td>False</td>\n",
       "      <td>True</td>\n",
       "      <td>False</td>\n",
       "      <td>True</td>\n",
       "      <td>False</td>\n",
       "      <td>...</td>\n",
       "      <td>False</td>\n",
       "      <td>True</td>\n",
       "      <td>False</td>\n",
       "      <td>True</td>\n",
       "      <td>False</td>\n",
       "      <td>False</td>\n",
       "      <td>False</td>\n",
       "      <td>True</td>\n",
       "      <td>False</td>\n",
       "      <td>True</td>\n",
       "    </tr>\n",
       "    <tr>\n",
       "      <th>612</th>\n",
       "      <td>7583</td>\n",
       "      <td>0.0</td>\n",
       "      <td>187.000000</td>\n",
       "      <td>360.0</td>\n",
       "      <td>1.0</td>\n",
       "      <td>False</td>\n",
       "      <td>True</td>\n",
       "      <td>False</td>\n",
       "      <td>True</td>\n",
       "      <td>False</td>\n",
       "      <td>...</td>\n",
       "      <td>False</td>\n",
       "      <td>True</td>\n",
       "      <td>False</td>\n",
       "      <td>True</td>\n",
       "      <td>False</td>\n",
       "      <td>False</td>\n",
       "      <td>False</td>\n",
       "      <td>True</td>\n",
       "      <td>False</td>\n",
       "      <td>True</td>\n",
       "    </tr>\n",
       "    <tr>\n",
       "      <th>613</th>\n",
       "      <td>4583</td>\n",
       "      <td>0.0</td>\n",
       "      <td>133.000000</td>\n",
       "      <td>360.0</td>\n",
       "      <td>0.0</td>\n",
       "      <td>True</td>\n",
       "      <td>False</td>\n",
       "      <td>True</td>\n",
       "      <td>False</td>\n",
       "      <td>True</td>\n",
       "      <td>...</td>\n",
       "      <td>False</td>\n",
       "      <td>True</td>\n",
       "      <td>False</td>\n",
       "      <td>False</td>\n",
       "      <td>True</td>\n",
       "      <td>False</td>\n",
       "      <td>True</td>\n",
       "      <td>False</td>\n",
       "      <td>True</td>\n",
       "      <td>False</td>\n",
       "    </tr>\n",
       "  </tbody>\n",
       "</table>\n",
       "<p>614 rows × 22 columns</p>\n",
       "</div>"
      ],
      "text/plain": [
       "     ApplicantIncome  CoapplicantIncome  LoanAmount  Loan_Amount_Term  \\\n",
       "0               5849                0.0  146.412162             360.0   \n",
       "1               4583             1508.0  128.000000             360.0   \n",
       "2               3000                0.0   66.000000             360.0   \n",
       "3               2583             2358.0  120.000000             360.0   \n",
       "4               6000                0.0  141.000000             360.0   \n",
       "..               ...                ...         ...               ...   \n",
       "609             2900                0.0   71.000000             360.0   \n",
       "610             4106                0.0   40.000000             180.0   \n",
       "611             8072              240.0  253.000000             360.0   \n",
       "612             7583                0.0  187.000000             360.0   \n",
       "613             4583                0.0  133.000000             360.0   \n",
       "\n",
       "     Credit_History  Gender_Female  Gender_Male  Married_No  Married_Yes  \\\n",
       "0               1.0          False         True        True        False   \n",
       "1               1.0          False         True       False         True   \n",
       "2               1.0          False         True       False         True   \n",
       "3               1.0          False         True       False         True   \n",
       "4               1.0          False         True        True        False   \n",
       "..              ...            ...          ...         ...          ...   \n",
       "609             1.0           True        False        True        False   \n",
       "610             1.0          False         True       False         True   \n",
       "611             1.0          False         True       False         True   \n",
       "612             1.0          False         True       False         True   \n",
       "613             0.0           True        False        True        False   \n",
       "\n",
       "     Dependents_0  ...  Dependents_3+  Education_Graduate  \\\n",
       "0            True  ...          False                True   \n",
       "1           False  ...          False                True   \n",
       "2            True  ...          False                True   \n",
       "3            True  ...          False               False   \n",
       "4            True  ...          False                True   \n",
       "..            ...  ...            ...                 ...   \n",
       "609          True  ...          False                True   \n",
       "610         False  ...           True                True   \n",
       "611         False  ...          False                True   \n",
       "612         False  ...          False                True   \n",
       "613          True  ...          False                True   \n",
       "\n",
       "     Education_Not Graduate  Self_Employed_No  Self_Employed_Yes  \\\n",
       "0                     False              True              False   \n",
       "1                     False              True              False   \n",
       "2                     False             False               True   \n",
       "3                      True              True              False   \n",
       "4                     False              True              False   \n",
       "..                      ...               ...                ...   \n",
       "609                   False              True              False   \n",
       "610                   False              True              False   \n",
       "611                   False              True              False   \n",
       "612                   False              True              False   \n",
       "613                   False             False               True   \n",
       "\n",
       "     Property_Area_Rural  Property_Area_Semiurban  Property_Area_Urban  \\\n",
       "0                  False                    False                 True   \n",
       "1                   True                    False                False   \n",
       "2                  False                    False                 True   \n",
       "3                  False                    False                 True   \n",
       "4                  False                    False                 True   \n",
       "..                   ...                      ...                  ...   \n",
       "609                 True                    False                False   \n",
       "610                 True                    False                False   \n",
       "611                False                    False                 True   \n",
       "612                False                    False                 True   \n",
       "613                False                     True                False   \n",
       "\n",
       "     Loan_Status_N  Loan_Status_Y  \n",
       "0            False           True  \n",
       "1             True          False  \n",
       "2            False           True  \n",
       "3            False           True  \n",
       "4            False           True  \n",
       "..             ...            ...  \n",
       "609          False           True  \n",
       "610          False           True  \n",
       "611          False           True  \n",
       "612          False           True  \n",
       "613           True          False  \n",
       "\n",
       "[614 rows x 22 columns]"
      ]
     },
     "execution_count": 61,
     "metadata": {},
     "output_type": "execute_result"
    }
   ],
   "source": [
    "df"
   ]
  },
  {
   "cell_type": "code",
   "execution_count": 62,
   "id": "1ac03591-e44a-4aaa-b75d-57c8bf0f7df8",
   "metadata": {},
   "outputs": [
    {
     "data": {
      "text/plain": [
       "Index(['ApplicantIncome', 'CoapplicantIncome', 'LoanAmount',\n",
       "       'Loan_Amount_Term', 'Credit_History', 'Gender_Female', 'Gender_Male',\n",
       "       'Married_No', 'Married_Yes', 'Dependents_0', 'Dependents_1',\n",
       "       'Dependents_2', 'Dependents_3+', 'Education_Graduate',\n",
       "       'Education_Not Graduate', 'Self_Employed_No', 'Self_Employed_Yes',\n",
       "       'Property_Area_Rural', 'Property_Area_Semiurban', 'Property_Area_Urban',\n",
       "       'Loan_Status_N', 'Loan_Status_Y'],\n",
       "      dtype='object')"
      ]
     },
     "execution_count": 62,
     "metadata": {},
     "output_type": "execute_result"
    }
   ],
   "source": [
    "df.columns"
   ]
  },
  {
   "cell_type": "code",
   "execution_count": 63,
   "id": "a3d75d3f-a14b-40c2-8d5b-1a3c8534dc41",
   "metadata": {},
   "outputs": [],
   "source": [
    "# Drop Columns\n",
    "df = df.drop(labels = ['Gender_Female', 'Married_No','Education_Not Graduate', 'Self_Employed_No','Loan_Status_N'],axis = 1)\n",
    "# Rename Column Names\n",
    "new = {'Gender_Male':\"Gender\",\"Married_Yes\":\"Married\",'Education_Graduate':\"Education\",'Self_Employed_Yes':'Self_Employed','Loan_Status_Y':'Loan_Status'}\n",
    "df.rename(columns = new,inplace = True)"
   ]
  },
  {
   "cell_type": "markdown",
   "id": "e8747e10-3f3e-415d-8227-dd63549c8f8d",
   "metadata": {},
   "source": [
    "## 5.3 Remove Outliers & Infinite values\n",
    "Since there are outliers, the outliers will be removed."
   ]
  },
  {
   "cell_type": "code",
   "execution_count": 64,
   "id": "cb89053f-8be8-4290-bf5b-c30bfd46f789",
   "metadata": {},
   "outputs": [],
   "source": [
    "def remove_outliers(df):\n",
    "    #columns: List of numerical columns to check for outliers. \n",
    "    columns = df.select_dtypes(include = np.number).columns\n",
    "    df_cleaned = df.copy()\n",
    "    for col in columns:\n",
    "        Q1 = df_cleaned[col].quantile(0.25)\n",
    "        Q3 = df_cleaned[col].quantile(0.75)\n",
    "        IQR = Q3 - Q1\n",
    "        lower_bound = Q1 - 1.5*IQR\n",
    "        upper_bound = Q3 + 1.5*IQR\n",
    "        df_cleaned = df_cleaned[(df_cleaned[col] >= lower_bound) & (df_cleaned[col] <= upper_bound)]\n",
    "\n",
    "    return df_cleaned"
   ]
  },
  {
   "cell_type": "code",
   "execution_count": 65,
   "id": "a150cb37-a505-42bf-87f1-875dd583c062",
   "metadata": {},
   "outputs": [],
   "source": [
    "df = remove_outliers(df)"
   ]
  },
  {
   "cell_type": "markdown",
   "id": "28325fd9-67f1-4630-bfdb-aa7516841c3e",
   "metadata": {},
   "source": [
    "## 5.4 Skewed Distribution Treatment \n",
    "* In previous section, it already shown that distribution for ApplicantIncome, CoapplicantIncome, and LoanAmount is positively skewed.\n",
    "*  I will use square root transformation to normalized the distribution."
   ]
  },
  {
   "cell_type": "code",
   "execution_count": 66,
   "id": "a223b317-9b5b-46cc-9cf2-18e6ec80b6c9",
   "metadata": {},
   "outputs": [],
   "source": [
    "df.ApplicantIncome = np.sqrt(df.ApplicantIncome)\n",
    "df.CoapplicantIncome = np.sqrt(df.CoapplicantIncome)\n",
    "df.LoanAmount = np.sqrt(df.LoanAmount)"
   ]
  },
  {
   "cell_type": "code",
   "execution_count": 67,
   "id": "eb84791c-c1ed-4e5f-9c5f-acdec120ae34",
   "metadata": {},
   "outputs": [
    {
     "data": {
      "text/plain": [
       "<Axes: xlabel='CoapplicantIncome', ylabel='Count'>"
      ]
     },
     "execution_count": 67,
     "metadata": {},
     "output_type": "execute_result"
    },
    {
     "data": {
      "image/png": "[encoded data removed]",
      "text/plain": [
       "<Figure size 640x480 with 2 Axes>"
      ]
     },
     "metadata": {},
     "output_type": "display_data"
    }
   ],
   "source": [
    "sns.set(style = \"darkgrid\")\n",
    "plt.subplot(2,2,1)\n",
    "sns.histplot(data = df, x = \"ApplicantIncome\", kde = True, color = 'green')\n",
    "plt.subplot(2,2,2)\n",
    "sns.histplot(data = df, x = \"CoapplicantIncome\", kde = True, color = \"skyblue\")"
   ]
  },
  {
   "cell_type": "code",
   "execution_count": 68,
   "id": "5f9fa41a-07cf-4660-90b3-a5593ad86db4",
   "metadata": {},
   "outputs": [
    {
     "data": {
      "image/png": "[encoded data removed]",
      "text/plain": [
       "<Figure size 640x480 with 1 Axes>"
      ]
     },
     "metadata": {},
     "output_type": "display_data"
    }
   ],
   "source": [
    "sns.set(style = \"darkgrid\")\n",
    "plt.subplot(1,1,1)\n",
    "sns.histplot(data=df, x=\"LoanAmount\", kde=True, color='orange');"
   ]
  },
  {
   "cell_type": "markdown",
   "id": "b8fccd86-0abc-4161-829d-b6031de924c2",
   "metadata": {},
   "source": [
    "## 5.5 Features Separating \n",
    "Dependent features (Loan_Status) will be seperated from independent features."
   ]
  },
  {
   "cell_type": "code",
   "execution_count": 69,
   "id": "781c1126-c833-4a65-8e60-691f9470021f",
   "metadata": {},
   "outputs": [],
   "source": [
    "X = df.drop(['Loan_Status'],axis = 1)\n",
    "Y = df['Loan_Status']"
   ]
  },
  {
   "cell_type": "markdown",
   "id": "78e47300-51ea-4d23-90a2-68f4a50d431a",
   "metadata": {},
   "source": [
    "## 5.6 SMOTE Technique \n",
    "In this section, oversampling technique will be used to avoid overfitting,"
   ]
  },
  {
   "cell_type": "code",
   "execution_count": 70,
   "id": "a629b30e-f493-467f-a675-d0dc155102ec",
   "metadata": {},
   "outputs": [],
   "source": [
    "X, Y = SMOTE().fit_resample(X, Y)"
   ]
  },
  {
   "cell_type": "code",
   "execution_count": 71,
   "id": "0409fc2b-7a57-47b2-bcf1-f8d3257ed190",
   "metadata": {},
   "outputs": [
    {
     "data": {
      "image/png": "[encoded data removed]",
      "text/plain": [
       "<Figure size 640x480 with 1 Axes>"
      ]
     },
     "metadata": {},
     "output_type": "display_data"
    }
   ],
   "source": [
    "sns.set_theme(style=\"darkgrid\")\n",
    "sns.countplot(y=Y, data=df, palette=\"coolwarm\")\n",
    "plt.ylabel('Loan Status')\n",
    "plt.xlabel('Total')\n",
    "plt.show()"
   ]
  },
  {
   "cell_type": "markdown",
   "id": "f4358c4f-df86-48d3-8205-b9e78b620f94",
   "metadata": {},
   "source": [
    "As can be seen, the distrubtion of Loan status are now balanced."
   ]
  },
  {
   "cell_type": "markdown",
   "id": "6ef32ce1-4882-4642-b99b-7e6cc27ffb46",
   "metadata": {},
   "source": [
    "## 5.7 Data Normalization \n",
    "In this section, data normalization will be performed to normalize the range of independent variables or features of data."
   ]
  },
  {
   "cell_type": "code",
   "execution_count": 72,
   "id": "6b36c755-0dcc-40e5-b752-b204255c63d0",
   "metadata": {},
   "outputs": [],
   "source": [
    "X = MinMaxScaler().fit_transform(X)"
   ]
  },
  {
   "cell_type": "markdown",
   "id": "b6e281e9-5459-4556-95c2-e28a30991b54",
   "metadata": {},
   "source": [
    "## 5.8 Splitting Data Set\n",
    "The data set will be split into 80% train and 20% test."
   ]
  },
  {
   "cell_type": "code",
   "execution_count": 73,
   "id": "08e210b7-70be-433c-b08e-94bd8cc17517",
   "metadata": {},
   "outputs": [],
   "source": [
    "X_train,X_test,Y_train,Y_test = train_test_split(X,Y,test_size = 0.2, random_state = 2)"
   ]
  },
  {
   "cell_type": "markdown",
   "id": "d7b2d3f6-6873-4e9f-98af-17ff598db28e",
   "metadata": {},
   "source": [
    "# 6. Models "
   ]
  },
  {
   "cell_type": "markdown",
   "id": "eb616fe9-51e5-4931-b7ff-38cc73cb63ea",
   "metadata": {},
   "source": [
    "## 6.1 Logistic Regression"
   ]
  },
  {
   "cell_type": "code",
   "execution_count": 74,
   "id": "90f97972-edcd-4c9a-af1f-2ab6e9a1aa24",
   "metadata": {},
   "outputs": [],
   "source": [
    "from sklearn.linear_model import LogisticRegression"
   ]
  },
  {
   "cell_type": "code",
   "execution_count": 75,
   "id": "b626caa0-2f77-4dc7-91db-c036bc71d042",
   "metadata": {},
   "outputs": [],
   "source": [
    "LRclassifier = LogisticRegression(max_iter = 500, random_state = 1)\n",
    "LRclassifier.fit(X_train,Y_train)\n",
    "Y_pred = LRclassifier.predict(X_test)\n",
    "LRAcc = accuracy_score(Y_test,Y_pred)"
   ]
  },
  {
   "cell_type": "code",
   "execution_count": 76,
   "id": "1cb7e028-a39e-494a-b0a2-25dd266b8d54",
   "metadata": {},
   "outputs": [
    {
     "name": "stdout",
     "output_type": "stream",
     "text": [
      "              precision    recall  f1-score   support\n",
      "\n",
      "       False       0.92      0.77      0.84        57\n",
      "        True       0.83      0.94      0.88        69\n",
      "\n",
      "    accuracy                           0.87       126\n",
      "   macro avg       0.88      0.86      0.86       126\n",
      "weighted avg       0.87      0.87      0.86       126\n",
      "\n",
      "[[44 13]\n",
      " [ 4 65]]\n",
      "Accuracy Score :  86.5079365079365\n"
     ]
    }
   ],
   "source": [
    "print(classification_report(Y_test,Y_pred))\n",
    "print(confusion_matrix(Y_test,Y_pred))\n",
    "\n",
    "from sklearn.metrics import accuracy_score\n",
    "print('Accuracy Score : ',accuracy_score(Y_test,Y_pred)*100)"
   ]
  },
  {
   "cell_type": "markdown",
   "id": "9643d5f4-2cf8-462c-a418-4e9ab705f27c",
   "metadata": {},
   "source": [
    "## 6.2 K-Nearest Neighbour (KNN)"
   ]
  },
  {
   "cell_type": "code",
   "execution_count": 77,
   "id": "75918748-21a8-40bd-92eb-52dfac7bfbc1",
   "metadata": {},
   "outputs": [],
   "source": [
    "scorelistknn = []\n",
    "for i in range(1,21):\n",
    "    KNclassifier = KNeighborsClassifier(n_neighbors = i)\n",
    "    KNclassifier.fit(X_train,Y_train)\n",
    "    scorelistknn.append(KNclassifier.score(X_test,Y_test))"
   ]
  },
  {
   "cell_type": "code",
   "execution_count": 78,
   "id": "c88ea3d3-f6bb-4e03-b8e9-91d95a80854d",
   "metadata": {},
   "outputs": [
    {
     "data": {
      "image/png": "[encoded data removed]",
      "text/plain": [
       "<Figure size 640x480 with 1 Axes>"
      ]
     },
     "metadata": {},
     "output_type": "display_data"
    },
    {
     "name": "stdout",
     "output_type": "stream",
     "text": [
      "KNN best score is : 91.26984126984127\n"
     ]
    }
   ],
   "source": [
    "plt.plot(range(1,21),scorelistknn)\n",
    "plt.xticks(np.arange(1,21,1))\n",
    "plt.xlabel(\"K Value\")\n",
    "plt.ylabel(\"Score\")\n",
    "plt.show()\n",
    "KNAcc = max(scorelistknn)\n",
    "print(\"KNN best score is :\", KNAcc*100)"
   ]
  },
  {
   "cell_type": "markdown",
   "id": "a582a586-f78f-4cd5-989b-8e204343a65b",
   "metadata": {},
   "source": [
    "## 6.3 Decision Tree"
   ]
  },
  {
   "cell_type": "code",
   "execution_count": 79,
   "id": "ee32e088-65f0-45ae-b222-61b8225c0e37",
   "metadata": {},
   "outputs": [
    {
     "name": "stdout",
     "output_type": "stream",
     "text": [
      "[0.7619047619047619, 0.7380952380952381, 0.8095238095238095, 0.8095238095238095, 0.8253968253968254, 0.8015873015873016, 0.8412698412698413, 0.8571428571428571, 0.8571428571428571, 0.8571428571428571, 0.873015873015873, 0.8809523809523809, 0.8809523809523809, 0.873015873015873, 0.8809523809523809, 0.8809523809523809, 0.873015873015873, 0.8809523809523809, 0.8809523809523809]\n"
     ]
    }
   ],
   "source": [
    "scorelistDT = []\n",
    "for i in range(2,21):\n",
    "    DTclassifier = DecisionTreeClassifier(max_leaf_nodes = i)\n",
    "    DTclassifier.fit(X_train,Y_train)\n",
    "    scorelistDT.append(DTclassifier.score(X_test,Y_test))\n",
    "print(scorelistDT)"
   ]
  },
  {
   "cell_type": "code",
   "execution_count": 80,
   "id": "3446bad2-2345-45b2-9ec5-9ccff98b40f6",
   "metadata": {},
   "outputs": [
    {
     "data": {
      "image/png": "[encoded data removed]",
      "text/plain": [
       "<Figure size 640x480 with 1 Axes>"
      ]
     },
     "metadata": {},
     "output_type": "display_data"
    },
    {
     "name": "stdout",
     "output_type": "stream",
     "text": [
      "Decision Tree Accuracy : 88.09523809523809\n"
     ]
    }
   ],
   "source": [
    "plt.plot(range(2,21),scorelistDT)\n",
    "plt.xticks(np.arange(2,21,1))\n",
    "plt.xlabel(\"Leaf\")\n",
    "plt.ylabel(\"Score\")\n",
    "plt.show()\n",
    "DTAcc = max(scorelistDT)\n",
    "print(\"Decision Tree Accuracy :\",DTAcc*100)"
   ]
  },
  {
   "cell_type": "markdown",
   "id": "b79df8f7-983f-4b2a-9fc6-dc952fe8bfb3",
   "metadata": {},
   "source": [
    "## 6.4 Random Forest"
   ]
  },
  {
   "cell_type": "code",
   "execution_count": 81,
   "id": "0a019aae-5557-40d2-ba5a-3ec1a3a1da95",
   "metadata": {},
   "outputs": [
    {
     "name": "stdout",
     "output_type": "stream",
     "text": [
      "CPU times: total: 20 s\n",
      "Wall time: 29.9 s\n"
     ]
    }
   ],
   "source": [
    "%%time\n",
    "scoreListRF = []\n",
    "for i in range(2,25):\n",
    "    RFclassifier= RandomForestClassifier(n_estimators=1000, random_state=1,max_leaf_nodes=i)\n",
    "    RFclassifier.fit(X_train,Y_train)\n",
    "    scoreListRF.append(RFclassifier.score(X_test, Y_test))"
   ]
  },
  {
   "cell_type": "code",
   "execution_count": 82,
   "id": "5a050ee2-9616-44cb-8887-d7bed2a311c1",
   "metadata": {},
   "outputs": [
    {
     "data": {
      "image/png": "[encoded data removed]",
      "text/plain": [
       "<Figure size 640x480 with 1 Axes>"
      ]
     },
     "metadata": {},
     "output_type": "display_data"
    },
    {
     "name": "stdout",
     "output_type": "stream",
     "text": [
      "Random Forest Accuracy :  0.9206349206349206\n"
     ]
    }
   ],
   "source": [
    "plt.plot(range(2,25),scoreListRF)\n",
    "plt.xticks(np.arange(2,25,1))\n",
    "plt.xlabel(\"RF Value\")\n",
    "plt.ylabel(\"Score\")\n",
    "plt.show()\n",
    "RFAcc = max(scoreListRF)\n",
    "print(\"Random Forest Accuracy : \",RFAcc)"
   ]
  },
  {
   "cell_type": "markdown",
   "id": "c5ad66bb-d8ad-4182-bd6f-38172b40c4b6",
   "metadata": {},
   "source": [
    "## 6.5 Gradient Boosting"
   ]
  },
  {
   "cell_type": "code",
   "execution_count": 83,
   "id": "e63bf9f9-6d2c-46cb-813f-40316b728015",
   "metadata": {},
   "outputs": [],
   "source": [
    "from sklearn.model_selection import RandomizedSearchCV,GridSearchCV"
   ]
  },
  {
   "cell_type": "code",
   "execution_count": 84,
   "id": "e8ab1320-b410-48db-b703-1f3290e65465",
   "metadata": {},
   "outputs": [
    {
     "name": "stdout",
     "output_type": "stream",
     "text": [
      "CPU times: total: 1min 1s\n",
      "Wall time: 1min 26s\n"
     ]
    },
    {
     "data": {
      "text/html": [
       "<style>#sk-container-id-1 {\n",
       "  /* Definition of color scheme common for light and dark mode */\n",
       "  --sklearn-color-text: black;\n",
       "  --sklearn-color-line: gray;\n",
       "  /* Definition of color scheme for unfitted estimators */\n",
       "  --sklearn-color-unfitted-level-0: #fff5e6;\n",
       "  --sklearn-color-unfitted-level-1: #f6e4d2;\n",
       "  --sklearn-color-unfitted-level-2: #ffe0b3;\n",
       "  --sklearn-color-unfitted-level-3: chocolate;\n",
       "  /* Definition of color scheme for fitted estimators */\n",
       "  --sklearn-color-fitted-level-0: #f0f8ff;\n",
       "  --sklearn-color-fitted-level-1: #d4ebff;\n",
       "  --sklearn-color-fitted-level-2: #b3dbfd;\n",
       "  --sklearn-color-fitted-level-3: cornflowerblue;\n",
       "\n",
       "  /* Specific color for light theme */\n",
       "  --sklearn-color-text-on-default-background: var(--sg-text-color, var(--theme-code-foreground, var(--jp-content-font-color1, black)));\n",
       "  --sklearn-color-background: var(--sg-background-color, var(--theme-background, var(--jp-layout-color0, white)));\n",
       "  --sklearn-color-border-box: var(--sg-text-color, var(--theme-code-foreground, var(--jp-content-font-color1, black)));\n",
       "  --sklearn-color-icon: #696969;\n",
       "\n",
       "  @media (prefers-color-scheme: dark) {\n",
       "    /* Redefinition of color scheme for dark theme */\n",
       "    --sklearn-color-text-on-default-background: var(--sg-text-color, var(--theme-code-foreground, var(--jp-content-font-color1, white)));\n",
       "    --sklearn-color-background: var(--sg-background-color, var(--theme-background, var(--jp-layout-color0, #111)));\n",
       "    --sklearn-color-border-box: var(--sg-text-color, var(--theme-code-foreground, var(--jp-content-font-color1, white)));\n",
       "    --sklearn-color-icon: #878787;\n",
       "  }\n",
       "}\n",
       "\n",
       "#sk-container-id-1 {\n",
       "  color: var(--sklearn-color-text);\n",
       "}\n",
       "\n",
       "#sk-container-id-1 pre {\n",
       "  padding: 0;\n",
       "}\n",
       "\n",
       "#sk-container-id-1 input.sk-hidden--visually {\n",
       "  border: 0;\n",
       "  clip: rect(1px 1px 1px 1px);\n",
       "  clip: rect(1px, 1px, 1px, 1px);\n",
       "  height: 1px;\n",
       "  margin: -1px;\n",
       "  overflow: hidden;\n",
       "  padding: 0;\n",
       "  position: absolute;\n",
       "  width: 1px;\n",
       "}\n",
       "\n",
       "#sk-container-id-1 div.sk-dashed-wrapped {\n",
       "  border: 1px dashed var(--sklearn-color-line);\n",
       "  margin: 0 0.4em 0.5em 0.4em;\n",
       "  box-sizing: border-box;\n",
       "  padding-bottom: 0.4em;\n",
       "  background-color: var(--sklearn-color-background);\n",
       "}\n",
       "\n",
       "#sk-container-id-1 div.sk-container {\n",
       "  /* jupyter's `normalize.less` sets `[hidden] { display: none; }`\n",
       "     but bootstrap.min.css set `[hidden] { display: none !important; }`\n",
       "     so we also need the `!important` here to be able to override the\n",
       "     default hidden behavior on the sphinx rendered scikit-learn.org.\n",
       "     See: https://github.com/scikit-learn/scikit-learn/issues/21755 */\n",
       "  display: inline-block !important;\n",
       "  position: relative;\n",
       "}\n",
       "\n",
       "#sk-container-id-1 div.sk-text-repr-fallback {\n",
       "  display: none;\n",
       "}\n",
       "\n",
       "div.sk-parallel-item,\n",
       "div.sk-serial,\n",
       "div.sk-item {\n",
       "  /* draw centered vertical line to link estimators */\n",
       "  background-image: linear-gradient(var(--sklearn-color-text-on-default-background), var(--sklearn-color-text-on-default-background));\n",
       "  background-size: 2px 100%;\n",
       "  background-repeat: no-repeat;\n",
       "  background-position: center center;\n",
       "}\n",
       "\n",
       "/* Parallel-specific style estimator block */\n",
       "\n",
       "#sk-container-id-1 div.sk-parallel-item::after {\n",
       "  content: \"\";\n",
       "  width: 100%;\n",
       "  border-bottom: 2px solid var(--sklearn-color-text-on-default-background);\n",
       "  flex-grow: 1;\n",
       "}\n",
       "\n",
       "#sk-container-id-1 div.sk-parallel {\n",
       "  display: flex;\n",
       "  align-items: stretch;\n",
       "  justify-content: center;\n",
       "  background-color: var(--sklearn-color-background);\n",
       "  position: relative;\n",
       "}\n",
       "\n",
       "#sk-container-id-1 div.sk-parallel-item {\n",
       "  display: flex;\n",
       "  flex-direction: column;\n",
       "}\n",
       "\n",
       "#sk-container-id-1 div.sk-parallel-item:first-child::after {\n",
       "  align-self: flex-end;\n",
       "  width: 50%;\n",
       "}\n",
       "\n",
       "#sk-container-id-1 div.sk-parallel-item:last-child::after {\n",
       "  align-self: flex-start;\n",
       "  width: 50%;\n",
       "}\n",
       "\n",
       "#sk-container-id-1 div.sk-parallel-item:only-child::after {\n",
       "  width: 0;\n",
       "}\n",
       "\n",
       "/* Serial-specific style estimator block */\n",
       "\n",
       "#sk-container-id-1 div.sk-serial {\n",
       "  display: flex;\n",
       "  flex-direction: column;\n",
       "  align-items: center;\n",
       "  background-color: var(--sklearn-color-background);\n",
       "  padding-right: 1em;\n",
       "  padding-left: 1em;\n",
       "}\n",
       "\n",
       "\n",
       "/* Toggleable style: style used for estimator/Pipeline/ColumnTransformer box that is\n",
       "clickable and can be expanded/collapsed.\n",
       "- Pipeline and ColumnTransformer use this feature and define the default style\n",
       "- Estimators will overwrite some part of the style using the `sk-estimator` class\n",
       "*/\n",
       "\n",
       "/* Pipeline and ColumnTransformer style (default) */\n",
       "\n",
       "#sk-container-id-1 div.sk-toggleable {\n",
       "  /* Default theme specific background. It is overwritten whether we have a\n",
       "  specific estimator or a Pipeline/ColumnTransformer */\n",
       "  background-color: var(--sklearn-color-background);\n",
       "}\n",
       "\n",
       "/* Toggleable label */\n",
       "#sk-container-id-1 label.sk-toggleable__label {\n",
       "  cursor: pointer;\n",
       "  display: block;\n",
       "  width: 100%;\n",
       "  margin-bottom: 0;\n",
       "  padding: 0.5em;\n",
       "  box-sizing: border-box;\n",
       "  text-align: center;\n",
       "}\n",
       "\n",
       "#sk-container-id-1 label.sk-toggleable__label-arrow:before {\n",
       "  /* Arrow on the left of the label */\n",
       "  content: \"▸\";\n",
       "  float: left;\n",
       "  margin-right: 0.25em;\n",
       "  color: var(--sklearn-color-icon);\n",
       "}\n",
       "\n",
       "#sk-container-id-1 label.sk-toggleable__label-arrow:hover:before {\n",
       "  color: var(--sklearn-color-text);\n",
       "}\n",
       "\n",
       "/* Toggleable content - dropdown */\n",
       "\n",
       "#sk-container-id-1 div.sk-toggleable__content {\n",
       "  max-height: 0;\n",
       "  max-width: 0;\n",
       "  overflow: hidden;\n",
       "  text-align: left;\n",
       "  /* unfitted */\n",
       "  background-color: var(--sklearn-color-unfitted-level-0);\n",
       "}\n",
       "\n",
       "#sk-container-id-1 div.sk-toggleable__content.fitted {\n",
       "  /* fitted */\n",
       "  background-color: var(--sklearn-color-fitted-level-0);\n",
       "}\n",
       "\n",
       "#sk-container-id-1 div.sk-toggleable__content pre {\n",
       "  margin: 0.2em;\n",
       "  border-radius: 0.25em;\n",
       "  color: var(--sklearn-color-text);\n",
       "  /* unfitted */\n",
       "  background-color: var(--sklearn-color-unfitted-level-0);\n",
       "}\n",
       "\n",
       "#sk-container-id-1 div.sk-toggleable__content.fitted pre {\n",
       "  /* unfitted */\n",
       "  background-color: var(--sklearn-color-fitted-level-0);\n",
       "}\n",
       "\n",
       "#sk-container-id-1 input.sk-toggleable__control:checked~div.sk-toggleable__content {\n",
       "  /* Expand drop-down */\n",
       "  max-height: 200px;\n",
       "  max-width: 100%;\n",
       "  overflow: auto;\n",
       "}\n",
       "\n",
       "#sk-container-id-1 input.sk-toggleable__control:checked~label.sk-toggleable__label-arrow:before {\n",
       "  content: \"▾\";\n",
       "}\n",
       "\n",
       "/* Pipeline/ColumnTransformer-specific style */\n",
       "\n",
       "#sk-container-id-1 div.sk-label input.sk-toggleable__control:checked~label.sk-toggleable__label {\n",
       "  color: var(--sklearn-color-text);\n",
       "  background-color: var(--sklearn-color-unfitted-level-2);\n",
       "}\n",
       "\n",
       "#sk-container-id-1 div.sk-label.fitted input.sk-toggleable__control:checked~label.sk-toggleable__label {\n",
       "  background-color: var(--sklearn-color-fitted-level-2);\n",
       "}\n",
       "\n",
       "/* Estimator-specific style */\n",
       "\n",
       "/* Colorize estimator box */\n",
       "#sk-container-id-1 div.sk-estimator input.sk-toggleable__control:checked~label.sk-toggleable__label {\n",
       "  /* unfitted */\n",
       "  background-color: var(--sklearn-color-unfitted-level-2);\n",
       "}\n",
       "\n",
       "#sk-container-id-1 div.sk-estimator.fitted input.sk-toggleable__control:checked~label.sk-toggleable__label {\n",
       "  /* fitted */\n",
       "  background-color: var(--sklearn-color-fitted-level-2);\n",
       "}\n",
       "\n",
       "#sk-container-id-1 div.sk-label label.sk-toggleable__label,\n",
       "#sk-container-id-1 div.sk-label label {\n",
       "  /* The background is the default theme color */\n",
       "  color: var(--sklearn-color-text-on-default-background);\n",
       "}\n",
       "\n",
       "/* On hover, darken the color of the background */\n",
       "#sk-container-id-1 div.sk-label:hover label.sk-toggleable__label {\n",
       "  color: var(--sklearn-color-text);\n",
       "  background-color: var(--sklearn-color-unfitted-level-2);\n",
       "}\n",
       "\n",
       "/* Label box, darken color on hover, fitted */\n",
       "#sk-container-id-1 div.sk-label.fitted:hover label.sk-toggleable__label.fitted {\n",
       "  color: var(--sklearn-color-text);\n",
       "  background-color: var(--sklearn-color-fitted-level-2);\n",
       "}\n",
       "\n",
       "/* Estimator label */\n",
       "\n",
       "#sk-container-id-1 div.sk-label label {\n",
       "  font-family: monospace;\n",
       "  font-weight: bold;\n",
       "  display: inline-block;\n",
       "  line-height: 1.2em;\n",
       "}\n",
       "\n",
       "#sk-container-id-1 div.sk-label-container {\n",
       "  text-align: center;\n",
       "}\n",
       "\n",
       "/* Estimator-specific */\n",
       "#sk-container-id-1 div.sk-estimator {\n",
       "  font-family: monospace;\n",
       "  border: 1px dotted var(--sklearn-color-border-box);\n",
       "  border-radius: 0.25em;\n",
       "  box-sizing: border-box;\n",
       "  margin-bottom: 0.5em;\n",
       "  /* unfitted */\n",
       "  background-color: var(--sklearn-color-unfitted-level-0);\n",
       "}\n",
       "\n",
       "#sk-container-id-1 div.sk-estimator.fitted {\n",
       "  /* fitted */\n",
       "  background-color: var(--sklearn-color-fitted-level-0);\n",
       "}\n",
       "\n",
       "/* on hover */\n",
       "#sk-container-id-1 div.sk-estimator:hover {\n",
       "  /* unfitted */\n",
       "  background-color: var(--sklearn-color-unfitted-level-2);\n",
       "}\n",
       "\n",
       "#sk-container-id-1 div.sk-estimator.fitted:hover {\n",
       "  /* fitted */\n",
       "  background-color: var(--sklearn-color-fitted-level-2);\n",
       "}\n",
       "\n",
       "/* Specification for estimator info (e.g. \"i\" and \"?\") */\n",
       "\n",
       "/* Common style for \"i\" and \"?\" */\n",
       "\n",
       ".sk-estimator-doc-link,\n",
       "a:link.sk-estimator-doc-link,\n",
       "a:visited.sk-estimator-doc-link {\n",
       "  float: right;\n",
       "  font-size: smaller;\n",
       "  line-height: 1em;\n",
       "  font-family: monospace;\n",
       "  background-color: var(--sklearn-color-background);\n",
       "  border-radius: 1em;\n",
       "  height: 1em;\n",
       "  width: 1em;\n",
       "  text-decoration: none !important;\n",
       "  margin-left: 1ex;\n",
       "  /* unfitted */\n",
       "  border: var(--sklearn-color-unfitted-level-1) 1pt solid;\n",
       "  color: var(--sklearn-color-unfitted-level-1);\n",
       "}\n",
       "\n",
       ".sk-estimator-doc-link.fitted,\n",
       "a:link.sk-estimator-doc-link.fitted,\n",
       "a:visited.sk-estimator-doc-link.fitted {\n",
       "  /* fitted */\n",
       "  border: var(--sklearn-color-fitted-level-1) 1pt solid;\n",
       "  color: var(--sklearn-color-fitted-level-1);\n",
       "}\n",
       "\n",
       "/* On hover */\n",
       "div.sk-estimator:hover .sk-estimator-doc-link:hover,\n",
       ".sk-estimator-doc-link:hover,\n",
       "div.sk-label-container:hover .sk-estimator-doc-link:hover,\n",
       ".sk-estimator-doc-link:hover {\n",
       "  /* unfitted */\n",
       "  background-color: var(--sklearn-color-unfitted-level-3);\n",
       "  color: var(--sklearn-color-background);\n",
       "  text-decoration: none;\n",
       "}\n",
       "\n",
       "div.sk-estimator.fitted:hover .sk-estimator-doc-link.fitted:hover,\n",
       ".sk-estimator-doc-link.fitted:hover,\n",
       "div.sk-label-container:hover .sk-estimator-doc-link.fitted:hover,\n",
       ".sk-estimator-doc-link.fitted:hover {\n",
       "  /* fitted */\n",
       "  background-color: var(--sklearn-color-fitted-level-3);\n",
       "  color: var(--sklearn-color-background);\n",
       "  text-decoration: none;\n",
       "}\n",
       "\n",
       "/* Span, style for the box shown on hovering the info icon */\n",
       ".sk-estimator-doc-link span {\n",
       "  display: none;\n",
       "  z-index: 9999;\n",
       "  position: relative;\n",
       "  font-weight: normal;\n",
       "  right: .2ex;\n",
       "  padding: .5ex;\n",
       "  margin: .5ex;\n",
       "  width: min-content;\n",
       "  min-width: 20ex;\n",
       "  max-width: 50ex;\n",
       "  color: var(--sklearn-color-text);\n",
       "  box-shadow: 2pt 2pt 4pt #999;\n",
       "  /* unfitted */\n",
       "  background: var(--sklearn-color-unfitted-level-0);\n",
       "  border: .5pt solid var(--sklearn-color-unfitted-level-3);\n",
       "}\n",
       "\n",
       ".sk-estimator-doc-link.fitted span {\n",
       "  /* fitted */\n",
       "  background: var(--sklearn-color-fitted-level-0);\n",
       "  border: var(--sklearn-color-fitted-level-3);\n",
       "}\n",
       "\n",
       ".sk-estimator-doc-link:hover span {\n",
       "  display: block;\n",
       "}\n",
       "\n",
       "/* \"?\"-specific style due to the `<a>` HTML tag */\n",
       "\n",
       "#sk-container-id-1 a.estimator_doc_link {\n",
       "  float: right;\n",
       "  font-size: 1rem;\n",
       "  line-height: 1em;\n",
       "  font-family: monospace;\n",
       "  background-color: var(--sklearn-color-background);\n",
       "  border-radius: 1rem;\n",
       "  height: 1rem;\n",
       "  width: 1rem;\n",
       "  text-decoration: none;\n",
       "  /* unfitted */\n",
       "  color: var(--sklearn-color-unfitted-level-1);\n",
       "  border: var(--sklearn-color-unfitted-level-1) 1pt solid;\n",
       "}\n",
       "\n",
       "#sk-container-id-1 a.estimator_doc_link.fitted {\n",
       "  /* fitted */\n",
       "  border: var(--sklearn-color-fitted-level-1) 1pt solid;\n",
       "  color: var(--sklearn-color-fitted-level-1);\n",
       "}\n",
       "\n",
       "/* On hover */\n",
       "#sk-container-id-1 a.estimator_doc_link:hover {\n",
       "  /* unfitted */\n",
       "  background-color: var(--sklearn-color-unfitted-level-3);\n",
       "  color: var(--sklearn-color-background);\n",
       "  text-decoration: none;\n",
       "}\n",
       "\n",
       "#sk-container-id-1 a.estimator_doc_link.fitted:hover {\n",
       "  /* fitted */\n",
       "  background-color: var(--sklearn-color-fitted-level-3);\n",
       "}\n",
       "</style><div id=\"sk-container-id-1\" class=\"sk-top-container\"><div class=\"sk-text-repr-fallback\"><pre>RandomizedSearchCV(cv=20, estimator=GradientBoostingClassifier(),\n",
       "                   param_distributions={&#x27;max_depth&#x27;: [1, 2, 3, 4, 5],\n",
       "                                        &#x27;max_leaf_nodes&#x27;: [2, 5, 10, 20, 30, 40,\n",
       "                                                           50],\n",
       "                                        &#x27;n_estimators&#x27;: [100, 200, 300, 400,\n",
       "                                                         500]})</pre><b>In a Jupyter environment, please rerun this cell to show the HTML representation or trust the notebook. <br />On GitHub, the HTML representation is unable to render, please try loading this page with nbviewer.org.</b></div><div class=\"sk-container\" hidden><div class=\"sk-item sk-dashed-wrapped\"><div class=\"sk-label-container\"><div class=\"sk-label fitted sk-toggleable\"><input class=\"sk-toggleable__control sk-hidden--visually\" id=\"sk-estimator-id-1\" type=\"checkbox\" ><label for=\"sk-estimator-id-1\" class=\"sk-toggleable__label fitted sk-toggleable__label-arrow fitted\">&nbsp;&nbsp;RandomizedSearchCV<a class=\"sk-estimator-doc-link fitted\" rel=\"noreferrer\" target=\"_blank\" href=\"https://scikit-learn.org/1.5/modules/generated/sklearn.model_selection.RandomizedSearchCV.html\">?<span>Documentation for RandomizedSearchCV</span></a><span class=\"sk-estimator-doc-link fitted\">i<span>Fitted</span></span></label><div class=\"sk-toggleable__content fitted\"><pre>RandomizedSearchCV(cv=20, estimator=GradientBoostingClassifier(),\n",
       "                   param_distributions={&#x27;max_depth&#x27;: [1, 2, 3, 4, 5],\n",
       "                                        &#x27;max_leaf_nodes&#x27;: [2, 5, 10, 20, 30, 40,\n",
       "                                                           50],\n",
       "                                        &#x27;n_estimators&#x27;: [100, 200, 300, 400,\n",
       "                                                         500]})</pre></div> </div></div><div class=\"sk-parallel\"><div class=\"sk-parallel-item\"><div class=\"sk-item\"><div class=\"sk-label-container\"><div class=\"sk-label fitted sk-toggleable\"><input class=\"sk-toggleable__control sk-hidden--visually\" id=\"sk-estimator-id-2\" type=\"checkbox\" ><label for=\"sk-estimator-id-2\" class=\"sk-toggleable__label fitted sk-toggleable__label-arrow fitted\">best_estimator_: GradientBoostingClassifier</label><div class=\"sk-toggleable__content fitted\"><pre>GradientBoostingClassifier(max_depth=5, max_leaf_nodes=30, n_estimators=200)</pre></div> </div></div><div class=\"sk-serial\"><div class=\"sk-item\"><div class=\"sk-estimator fitted sk-toggleable\"><input class=\"sk-toggleable__control sk-hidden--visually\" id=\"sk-estimator-id-3\" type=\"checkbox\" ><label for=\"sk-estimator-id-3\" class=\"sk-toggleable__label fitted sk-toggleable__label-arrow fitted\">&nbsp;GradientBoostingClassifier<a class=\"sk-estimator-doc-link fitted\" rel=\"noreferrer\" target=\"_blank\" href=\"https://scikit-learn.org/1.5/modules/generated/sklearn.ensemble.GradientBoostingClassifier.html\">?<span>Documentation for GradientBoostingClassifier</span></a></label><div class=\"sk-toggleable__content fitted\"><pre>GradientBoostingClassifier(max_depth=5, max_leaf_nodes=30, n_estimators=200)</pre></div> </div></div></div></div></div></div></div></div></div>"
      ],
      "text/plain": [
       "RandomizedSearchCV(cv=20, estimator=GradientBoostingClassifier(),\n",
       "                   param_distributions={'max_depth': [1, 2, 3, 4, 5],\n",
       "                                        'max_leaf_nodes': [2, 5, 10, 20, 30, 40,\n",
       "                                                           50],\n",
       "                                        'n_estimators': [100, 200, 300, 400,\n",
       "                                                         500]})"
      ]
     },
     "execution_count": 84,
     "metadata": {},
     "output_type": "execute_result"
    }
   ],
   "source": [
    "%%time\n",
    "GB = RandomizedSearchCV(estimator = GradientBoostingClassifier(),\n",
    "                  param_distributions = {'n_estimators':[100,200,300,400,500],\n",
    "                                \"max_depth\":[1,2,3,4,5],\n",
    "                                \"max_leaf_nodes\":[2,5,10,20,30,40,50]},\n",
    "                  cv = 20)\n",
    "GB.fit(X_train, Y_train)"
   ]
  },
  {
   "cell_type": "code",
   "execution_count": 85,
   "id": "0d6c2c62-2783-418c-b7ea-045369249061",
   "metadata": {},
   "outputs": [
    {
     "name": "stdout",
     "output_type": "stream",
     "text": [
      "GradientBoostingClassifier(max_depth=5, max_leaf_nodes=30, n_estimators=200)\n",
      "0.8520000000000001\n",
      "{'n_estimators': 200, 'max_leaf_nodes': 30, 'max_depth': 5}\n",
      "1\n"
     ]
    }
   ],
   "source": [
    "print(GB.best_estimator_)\n",
    "print(GB.best_score_)\n",
    "print(GB.best_params_)\n",
    "print(GB.best_index_)"
   ]
  },
  {
   "cell_type": "code",
   "execution_count": 89,
   "id": "5a99ed61-1221-41a6-a66d-25ef38f2cc4d",
   "metadata": {},
   "outputs": [
    {
     "name": "stdout",
     "output_type": "stream",
     "text": [
      "................................................................\n",
      "Classification Report \n",
      "               precision    recall  f1-score   support\n",
      "\n",
      "       False       0.91      0.91      0.91        57\n",
      "        True       0.93      0.93      0.93        69\n",
      "\n",
      "    accuracy                           0.92       126\n",
      "   macro avg       0.92      0.92      0.92       126\n",
      "weighted avg       0.92      0.92      0.92       126\n",
      "\n",
      "................................................................\n",
      "Confusion Matrix \n",
      " [[52  5]\n",
      " [ 5 64]]\n",
      "................................................................\n",
      "Gradient Boosting Accuracy Score is : \n",
      " 0.9206349206349206\n",
      "................................................................\n"
     ]
    }
   ],
   "source": [
    "GBclassifier = GradientBoostingClassifier(n_estimators = 400, max_leaf_nodes = 40, \n",
    "                                          max_depth = 5)\n",
    "GBclassifier.fit(X_train,Y_train)\n",
    "\n",
    "Y_pred = GBclassifier.predict(X_test)\n",
    "\n",
    "GBAcc = accuracy_score(Y_test,Y_pred)\n",
    "print('................................................................')\n",
    "print('Classification Report \\n', classification_report(Y_test,Y_pred))\n",
    "print('................................................................')\n",
    "print('Confusion Matrix \\n', confusion_matrix(Y_test,Y_pred))\n",
    "print('................................................................')\n",
    "print('Gradient Boosting Accuracy Score is : \\n', accuracy_score(Y_test,Y_pred))\n",
    "print('................................................................')"
   ]
  },
  {
   "cell_type": "markdown",
   "id": "64bd0d35-6b82-448e-a337-d80a5db67062",
   "metadata": {},
   "source": [
    "## 6.6 Support Vector Machine (SVM)"
   ]
  },
  {
   "cell_type": "code",
   "execution_count": 90,
   "id": "0d5dfda4-87df-4f6b-b268-ce9e55c5468d",
   "metadata": {},
   "outputs": [
    {
     "name": "stdout",
     "output_type": "stream",
     "text": [
      "................................................................\n",
      "Classification Report \n",
      "               precision    recall  f1-score   support\n",
      "\n",
      "       False       0.98      0.72      0.83        57\n",
      "        True       0.81      0.99      0.89        69\n",
      "\n",
      "    accuracy                           0.87       126\n",
      "   macro avg       0.89      0.85      0.86       126\n",
      "weighted avg       0.88      0.87      0.86       126\n",
      "\n",
      "................................................................\n",
      "Confusion Matrix \n",
      " [[41 16]\n",
      " [ 1 68]]\n",
      "................................................................\n",
      "Support Vector Machine Accuracy Score is : \n",
      " 0.8650793650793651\n",
      "................................................................\n"
     ]
    }
   ],
   "source": [
    "SVCclassifier = SVC(kernel='rbf',max_iter = 500)\n",
    "SVCclassifier.fit(X_train,Y_train)\n",
    "\n",
    "Y_pred = SVCclassifier.predict(X_test)\n",
    "SVMAcc = accuracy_score(Y_test,Y_pred)\n",
    "\n",
    "print('................................................................')\n",
    "print('Classification Report \\n', classification_report(Y_test,Y_pred))\n",
    "print('................................................................')\n",
    "print('Confusion Matrix \\n', confusion_matrix(Y_test,Y_pred))\n",
    "print('................................................................')\n",
    "print('Support Vector Machine Accuracy Score is : \\n', accuracy_score(Y_test,Y_pred))\n",
    "print('................................................................')"
   ]
  },
  {
   "cell_type": "markdown",
   "id": "671c91fe-fe27-4d1a-9994-ea5d0cf950e2",
   "metadata": {},
   "source": [
    "# 7. Model Comparision"
   ]
  },
  {
   "cell_type": "code",
   "execution_count": 91,
   "id": "3632ce88-d2d5-4783-b3eb-314550b01b8c",
   "metadata": {},
   "outputs": [
    {
     "data": {
      "text/html": [
       "<div>\n",
       "<style scoped>\n",
       "    .dataframe tbody tr th:only-of-type {\n",
       "        vertical-align: middle;\n",
       "    }\n",
       "\n",
       "    .dataframe tbody tr th {\n",
       "        vertical-align: top;\n",
       "    }\n",
       "\n",
       "    .dataframe thead th {\n",
       "        text-align: right;\n",
       "    }\n",
       "</style>\n",
       "<table border=\"1\" class=\"dataframe\">\n",
       "  <thead>\n",
       "    <tr style=\"text-align: right;\">\n",
       "      <th></th>\n",
       "      <th>Model</th>\n",
       "      <th>Accuracy</th>\n",
       "    </tr>\n",
       "  </thead>\n",
       "  <tbody>\n",
       "    <tr>\n",
       "      <th>4</th>\n",
       "      <td>Random Forest</td>\n",
       "      <td>92.063492</td>\n",
       "    </tr>\n",
       "    <tr>\n",
       "      <th>5</th>\n",
       "      <td>Gradient Boost</td>\n",
       "      <td>92.063492</td>\n",
       "    </tr>\n",
       "    <tr>\n",
       "      <th>1</th>\n",
       "      <td>K Neighbors</td>\n",
       "      <td>91.269841</td>\n",
       "    </tr>\n",
       "    <tr>\n",
       "      <th>3</th>\n",
       "      <td>Decision Tree</td>\n",
       "      <td>88.095238</td>\n",
       "    </tr>\n",
       "    <tr>\n",
       "      <th>0</th>\n",
       "      <td>Logistic Regression</td>\n",
       "      <td>86.507937</td>\n",
       "    </tr>\n",
       "    <tr>\n",
       "      <th>2</th>\n",
       "      <td>SVM</td>\n",
       "      <td>86.507937</td>\n",
       "    </tr>\n",
       "  </tbody>\n",
       "</table>\n",
       "</div>"
      ],
      "text/plain": [
       "                 Model   Accuracy\n",
       "4        Random Forest  92.063492\n",
       "5       Gradient Boost  92.063492\n",
       "1          K Neighbors  91.269841\n",
       "3        Decision Tree  88.095238\n",
       "0  Logistic Regression  86.507937\n",
       "2                  SVM  86.507937"
      ]
     },
     "execution_count": 91,
     "metadata": {},
     "output_type": "execute_result"
    }
   ],
   "source": [
    "compare = pd.DataFrame({\"Model\" : ['Logistic Regression', 'K Neighbors', \n",
    "                                  'SVM', 'Decision Tree', \n",
    "                                  'Random Forest', 'Gradient Boost'], \n",
    "                        \"Accuracy\" : [LRAcc*100, KNAcc*100, SVMAcc*100, \n",
    "                                    DTAcc*100, RFAcc*100, GBAcc*100]})\n",
    "compare.sort_values(by = \"Accuracy\",ascending = False)"
   ]
  },
  {
   "cell_type": "markdown",
   "id": "5602f387-7625-4018-9766-fda05bd494e9",
   "metadata": {},
   "source": [
    "*  In general, it can be seen that all models can achieve up to 80% accuracy.\n",
    "*  The highest accuracy is 92 %, which is acheived by Random Forest Model."
   ]
  },
  {
   "cell_type": "code",
   "execution_count": null,
   "id": "dea35c87-28ea-4198-8056-0df1dc22feba",
   "metadata": {},
   "outputs": [],
   "source": []
  }
 ],
 "metadata": {
  "kernelspec": {
   "display_name": "Python 3 (ipykernel)",
   "language": "python",
   "name": "python3"
  },
  "language_info": {
   "codemirror_mode": {
    "name": "ipython",
    "version": 3
   },
   "file_extension": ".py",
   "mimetype": "text/x-python",
   "name": "python",
   "nbconvert_exporter": "python",
   "pygments_lexer": "ipython3",
   "version": "3.13.0"
  }
 },
 "nbformat": 4,
 "nbformat_minor": 5
}
